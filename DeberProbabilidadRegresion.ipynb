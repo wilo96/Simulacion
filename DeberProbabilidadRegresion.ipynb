{
 "cells": [
  {
   "cell_type": "markdown",
   "metadata": {},
   "source": [
    "# Implementacion del modelo hecho en clase:"
   ]
  },
  {
   "cell_type": "code",
   "execution_count": 103,
   "metadata": {},
   "outputs": [
    {
     "data": {
      "text/html": [
       "<div>\n",
       "<style scoped>\n",
       "    .dataframe tbody tr th:only-of-type {\n",
       "        vertical-align: middle;\n",
       "    }\n",
       "\n",
       "    .dataframe tbody tr th {\n",
       "        vertical-align: top;\n",
       "    }\n",
       "\n",
       "    .dataframe thead th {\n",
       "        text-align: right;\n",
       "    }\n",
       "</style>\n",
       "<table border=\"1\" class=\"dataframe\">\n",
       "  <thead>\n",
       "    <tr style=\"text-align: right;\">\n",
       "      <th></th>\n",
       "      <th>date</th>\n",
       "      <th>Ecuador</th>\n",
       "    </tr>\n",
       "  </thead>\n",
       "  <tbody>\n",
       "    <tr>\n",
       "      <th>0</th>\n",
       "      <td>-1</td>\n",
       "      <td>0.0</td>\n",
       "    </tr>\n",
       "    <tr>\n",
       "      <th>1</th>\n",
       "      <td>0</td>\n",
       "      <td>0.0</td>\n",
       "    </tr>\n",
       "    <tr>\n",
       "      <th>2</th>\n",
       "      <td>1</td>\n",
       "      <td>0.0</td>\n",
       "    </tr>\n",
       "    <tr>\n",
       "      <th>3</th>\n",
       "      <td>2</td>\n",
       "      <td>0.0</td>\n",
       "    </tr>\n",
       "    <tr>\n",
       "      <th>4</th>\n",
       "      <td>3</td>\n",
       "      <td>0.0</td>\n",
       "    </tr>\n",
       "    <tr>\n",
       "      <th>...</th>\n",
       "      <td>...</td>\n",
       "      <td>...</td>\n",
       "    </tr>\n",
       "    <tr>\n",
       "      <th>111</th>\n",
       "      <td>110</td>\n",
       "      <td>446.0</td>\n",
       "    </tr>\n",
       "    <tr>\n",
       "      <th>112</th>\n",
       "      <td>111</td>\n",
       "      <td>660.0</td>\n",
       "    </tr>\n",
       "    <tr>\n",
       "      <th>113</th>\n",
       "      <td>112</td>\n",
       "      <td>270.0</td>\n",
       "    </tr>\n",
       "    <tr>\n",
       "      <th>114</th>\n",
       "      <td>113</td>\n",
       "      <td>452.0</td>\n",
       "    </tr>\n",
       "    <tr>\n",
       "      <th>115</th>\n",
       "      <td>114</td>\n",
       "      <td>333.0</td>\n",
       "    </tr>\n",
       "  </tbody>\n",
       "</table>\n",
       "<p>116 rows × 2 columns</p>\n",
       "</div>"
      ],
      "text/plain": [
       "     date  Ecuador\n",
       "0      -1      0.0\n",
       "1       0      0.0\n",
       "2       1      0.0\n",
       "3       2      0.0\n",
       "4       3      0.0\n",
       "..    ...      ...\n",
       "111   110    446.0\n",
       "112   111    660.0\n",
       "113   112    270.0\n",
       "114   113    452.0\n",
       "115   114    333.0\n",
       "\n",
       "[116 rows x 2 columns]"
      ]
     },
     "execution_count": 103,
     "metadata": {},
     "output_type": "execute_result"
    }
   ],
   "source": [
    "import pandas as pd\n",
    "import numpy as np\n",
    "from datetime import datetime,timedelta\n",
    "from sklearn.metrics import mean_squared_error\n",
    "from scipy.optimize import curve_fit\n",
    "from scipy.optimize import fsolve\n",
    "from sklearn.model_selection import train_test_split\n",
    "from sklearn.preprocessing import PolynomialFeatures\n",
    "from sklearn import linear_model\n",
    "import matplotlib.pyplot as plt\n",
    "from scipy.integrate import odeint\n",
    "import pandas as requests,sys,numpy as np, matplotlib, math, matplotlib.pyplot as plt,scipy\n",
    "from scipy.integrate import solve_ivp\n",
    "from scipy.optimize import minimize\n",
    "from IPython.display import display\n",
    "\n",
    "\n",
    "url = 'https://covid.ourworldindata.org/data/ecdc/new_cases.csv'\n",
    "df = pd.read_csv(url)\n",
    "df\n",
    "df = df.loc[:,['date','Ecuador']] #Selecciono las columnas de analasis\n",
    "# Expresar las fechas en numero de dias desde el 01 Enero\n",
    "FMT = '%Y-%m-%d'\n",
    "date = df['date']\n",
    "df['date'] = date.map(lambda x : (datetime.strptime(x, FMT) - datetime.strptime(\"2020-01-01\", FMT)).days)\n",
    "df"
   ]
  },
  {
   "cell_type": "code",
   "execution_count": 104,
   "metadata": {},
   "outputs": [
    {
     "data": {
      "image/png": "[encoded data removed]",
      "text/plain": [
       "<Figure size 432x288 with 1 Axes>"
      ]
     },
     "metadata": {
      "needs_background": "light"
     },
     "output_type": "display_data"
    },
    {
     "name": "stdout",
     "output_type": "stream",
     "text": [
      "155.0\n",
      "223.66\n"
     ]
    }
   ],
   "source": [
    "df.plot(x ='date', y='Ecuador')\n",
    "plt.show()\n",
    "filtro = df[\"Ecuador\"][61:] # Filtro los datos que se empezo a tener casos\n",
    "#Obtenemos la mediana\n",
    "media = filtro.mean()\n",
    "mediana = filtro.median()\n",
    "print(mediana)\n",
    "print(media)"
   ]
  },
  {
   "cell_type": "code",
   "execution_count": 105,
   "metadata": {},
   "outputs": [
    {
     "name": "stdout",
     "output_type": "stream",
     "text": [
      "11338\n"
     ]
    },
    {
     "data": {
      "image/png": "[encoded data removed]",
      "text/plain": [
       "<Figure size 432x288 with 1 Axes>"
      ]
     },
     "metadata": {
      "needs_background": "light"
     },
     "output_type": "display_data"
    }
   ],
   "source": [
    "url = 'https://covid.ourworldindata.org/data/ecdc/total_cases.csv'\n",
    "df_t = pd.read_csv(url)\n",
    "FMT = '%Y-%m-%d'\n",
    "date = df_t['date']\n",
    "df_t['date'] = date.map(lambda x : (datetime.strptime(x, FMT) - datetime.strptime(\"2020-01-01\", FMT)).days)\n",
    "df_t = df_t.loc[:,['date','Ecuador']] #Selecciono las columnas de analasis\n",
    "y = list(df_t.iloc [:, 1]) # Total casos\n",
    "x = list(df_t.iloc [:, 0]) # Dias\n",
    "x1 = list(df_t.iloc [:, 0]) # Dias\n",
    "y1 = list(df_t.iloc [:, 1]) # Total casos\n",
    "#Realizamos un ejemplo de prediccion\n",
    "prediccion_siguiente = int(y[-1] + mediana)\n",
    "print(prediccion_siguiente)\n",
    "\n",
    "for i in range(x[-1], x[-1]):\n",
    "    x.append(i)\n",
    "    y.append(int(y[-1] + mediana))\n",
    "plt.plot(x[61:], y[61:])\n",
    "plt.show()"
   ]
  },
  {
   "cell_type": "markdown",
   "metadata": {},
   "source": [
    "1. Comparar el modelo de predicion matematico vs probabilidad."
   ]
  },
  {
   "cell_type": "markdown",
   "metadata": {},
   "source": [
    "#### Modelo Polinomial"
   ]
  },
  {
   "cell_type": "code",
   "execution_count": 106,
   "metadata": {},
   "outputs": [
    {
     "name": "stdout",
     "output_type": "stream",
     "text": [
      "[1.0, 6.0, 7.0, 0, 10.0, 13.0, 0, 0, 14.0, 15.0, 17.0, 0, 0, 23.0, 28.0, 37.0, 58.0, 111.0, 168.0, 199.0, 426.0, 532.0, 789.0, 981.0, 1082.0, 1211.0, 1403.0, 1627.0, 1835.0, 1890.0, 1966.0, 2302.0, 2758.0, 3163.0, 3368.0, 3465.0, 3646.0, 3747.0, 3995.0, 4450.0, 4965.0, 7161.0, 7257.0, 7466.0, 7529.0, 7603.0, 7858.0, 8225.0, 8450.0, 9022.0, 9468.0, 10128.0, 10398.0, 10850.0, 11183.0]\n"
     ]
    },
    {
     "data": {
      "image/png": "[encoded data removed]",
      "text/plain": [
       "<Figure size 432x288 with 1 Axes>"
      ]
     },
     "metadata": {
      "needs_background": "light"
     },
     "output_type": "display_data"
    }
   ],
   "source": [
    "xx= x1[61:]\n",
    "yy= y1[61:]\n",
    "for i in range(len(yy)):\n",
    "    if str(yy[i])=='nan':\n",
    "        yy[i]=0\n",
    "print(yy)\n",
    "X_train, X_test, y_train, y_test = train_test_split(xx, yy, test_size=0.25)\n",
    "X_train=np.array(X_train).reshape(-1,1)\n",
    "X_test=np.array(X_test).reshape(-1,1)   \n",
    "poli_reg=PolynomialFeatures(degree=6)\n",
    "\n",
    "X_train_poli = poli_reg.fit_transform(X_train)\n",
    "X_test_p = poli_reg.fit_transform(X_test)\n",
    "pr = linear_model.LinearRegression()\n",
    "pr.fit(X_train_poli, y_train)\n",
    "Y_predic = pr.predict(X_train_poli)\n",
    "xt,yt=zip(*sorted(zip(X_train,Y_predic)))   \n",
    "plt.xlabel(\"Desde el 29 de Febrero 2020 día 1\")\n",
    "plt.ylabel(\"Total de personas infectadas\")\n",
    "plt.plot(x[61:], y[61:],label='Probabilidad')\n",
    "plt.plot(xt, yt, color='green', label='Grado 6', lineWidth=3)\n",
    "\n",
    "plt.show()\n"
   ]
  },
  {
   "cell_type": "markdown",
   "metadata": {},
   "source": [
    "En el grafico observamos una comparación entre modelo polinomial grado 6 (verde) y el probabilistico (azul)"
   ]
  },
  {
   "cell_type": "markdown",
   "metadata": {},
   "source": [
    "2. Generar el SIR en base al modelo de probabilidad y obtener beta y gamma con una semana de prediccion."
   ]
  },
  {
   "cell_type": "code",
   "execution_count": 107,
   "metadata": {},
   "outputs": [
    {
     "data": {
      "image/png": "[encoded data removed]",
      "text/plain": [
       "<Figure size 432x288 with 1 Axes>"
      ]
     },
     "metadata": {
      "needs_background": "light"
     },
     "output_type": "display_data"
    }
   ],
   "source": [
    "# Quiero predecir cuántos \"Casos\" voy a obtener de aqui a 10 dias.\n",
    "for i in range(x1[-1], x1[-1]+7):\n",
    "    x1.append(i)\n",
    "    y1.append(int(y1[-1] + mediana))\n",
    "plt.plot(x1[61:], y1[61:])\n",
    "plt.show()"
   ]
  },
  {
   "cell_type": "code",
   "execution_count": 108,
   "metadata": {},
   "outputs": [
    {
     "name": "stdout",
     "output_type": "stream",
     "text": [
      "[0.0, 0.0, 0.0, 0.0, 0.0, 0.0, 0.0, 0.0, 0.0, 0.0, 0.0, 0.0, 0.0, 0.0, 0.0, 0.0, 0.0, 0.0, 0.0, 0.0, 0.0, 0.0, 0.0, 0.0, 0.0, 0.0, 0.0, 0.0, 0.0, 0.0, 0.0, 0.0, 0.0, 0.0, 0.0, 0.0, 0.0, 0.0, 0.0, 0.0, 0.0, 0.0, 0.0, 0.0, 0.0, 0.0, 0.0, 0.0, 0.0, 0.0, 0.0, 0.0, 0.0, 0.0, 0.0, 0.0, 0.0, 0.0, 0.0, 0.0, 0.0, 1.0, 6.0, 7.0, 0, 10.0, 13.0, 0, 0, 14.0, 15.0, 17.0, 0, 0, 23.0, 28.0, 37.0, 58.0, 111.0, 168.0, 199.0, 426.0, 532.0, 789.0, 981.0, 1082.0, 1211.0, 1403.0, 1627.0, 1835.0, 1890.0, 1966.0, 2302.0, 2758.0, 3163.0, 3368.0, 3465.0, 3646.0, 3747.0, 3995.0, 4450.0, 4965.0, 7161.0, 7257.0, 7466.0, 7529.0, 7603.0, 7858.0, 8225.0, 8450.0, 9022.0, 9468.0, 10128.0, 10398.0, 10850.0, 11183.0, 11338, 11493, 11648, 11803, 11958, 12113, 12268]\n",
      "[899999.         899998.99456633 899998.99456633 899998.99456633\n",
      " 899998.99456633 899998.99456633 899998.99456633 899998.99456633\n",
      " 899998.99456633 899998.99456633 899998.99456633 899998.99456633\n",
      " 899998.99456633 899998.99456633 899998.99456633 899998.99456633\n",
      " 899998.99456633 899998.99456633 899998.99456633 899998.99456633\n",
      " 899998.99456633 899998.99456633 899998.99456633 899998.99456633\n",
      " 899998.99456633 899998.99456633 899998.99456633 899998.99456633\n",
      " 899998.99456633 899998.99456633 899998.99456633 899998.99456633\n",
      " 899998.99456633 899998.99456633 899998.99456633 899998.99456633\n",
      " 899998.99456633 899998.99456633 899998.99456633 899998.99456633\n",
      " 899998.99456633 899998.99456633 899998.99456633 899998.99456633\n",
      " 899998.99456633 899998.99456633 899998.99456633 899998.99456633\n",
      " 899998.99456633 899998.99456633 899998.99456633 899998.99456633\n",
      " 899998.99456633 899998.99456633 899998.99456633 899998.99456633\n",
      " 899998.99456633 899998.99456633 899998.99456633 899998.99456633\n",
      " 899998.99456633 899998.99456633 899998.99456633 899998.99456633\n",
      " 899998.99456633 899998.99456633 899998.99456633 899998.99456633\n",
      " 899998.99456633 899998.99456633 899998.99456633 899998.99456633\n",
      " 899998.99456633 899998.99456633 899998.99456633 899998.99456633\n",
      " 899998.99456633 899998.99456633 899998.99456633 899998.99456633\n",
      " 899998.99456633 899998.99456633 899998.99456633 899998.99456633\n",
      " 899998.99456633 899998.99456633 899998.99456633 899998.99456633\n",
      " 899998.99456633 899998.99456633 899998.99456633 899998.99456633\n",
      " 899998.99456633 899998.99456633 899998.99456633 899998.99456633\n",
      " 899998.99456633 899998.99456633 899998.99456633 899998.99456633] [ 1.00000000e+00 -4.22139348e-14 -1.36095197e-14 -1.28510685e-16\n",
      " -3.50538485e-17 -5.62511300e-19 -5.31887444e-19 -5.01263588e-19\n",
      " -4.70639731e-19 -4.40015875e-19 -4.09392019e-19 -3.78768162e-19\n",
      " -3.48144306e-19 -3.17520449e-19 -2.86896593e-19 -2.56272737e-19\n",
      " -2.25648880e-19 -1.95025024e-19 -1.64401168e-19 -1.33777311e-19\n",
      " -1.03153455e-19 -7.25295985e-20 -4.19057422e-20 -1.12818858e-20\n",
      " -1.94723511e-22 -1.84118435e-22 -1.73513360e-22 -1.62908284e-22\n",
      " -1.52303208e-22 -1.41698133e-22 -1.31093057e-22 -1.20487981e-22\n",
      " -1.09882905e-22 -9.92778296e-23 -8.86727539e-23 -7.80676781e-23\n",
      " -6.74626024e-23 -5.68575267e-23 -4.62524509e-23 -3.56473752e-23\n",
      " -2.50422994e-23 -1.44372237e-23 -3.83214797e-24 -6.93394693e-26\n",
      " -6.89731045e-26 -6.86067397e-26 -6.82403749e-26 -6.78740102e-26\n",
      " -6.75076454e-26 -6.71412806e-26 -6.67749158e-26 -6.64085511e-26\n",
      " -6.60421863e-26 -6.56758215e-26 -6.53094567e-26 -6.49430920e-26\n",
      " -6.45767272e-26 -6.42103624e-26 -6.38439976e-26 -6.34776329e-26\n",
      " -6.31112681e-26 -6.27449033e-26 -6.23785385e-26 -6.20121738e-26\n",
      " -6.16458090e-26 -6.12794442e-26 -6.09130794e-26 -6.05467147e-26\n",
      " -6.01803499e-26 -5.98139851e-26 -5.94476203e-26 -5.90812556e-26\n",
      " -5.87148908e-26 -5.83485260e-26 -5.79821613e-26 -5.76157965e-26\n",
      " -5.72494317e-26 -5.68830669e-26 -5.65167022e-26 -5.61503374e-26\n",
      " -5.57839726e-26 -5.54176078e-26 -5.50512431e-26 -5.46848783e-26\n",
      " -5.43185135e-26 -5.39521487e-26 -5.35857840e-26 -5.32194192e-26\n",
      " -5.28530544e-26 -5.24866896e-26 -5.21203249e-26 -5.17539601e-26\n",
      " -5.13875953e-26 -5.10212305e-26 -5.06548658e-26 -5.02885010e-26\n",
      " -4.99221362e-26 -4.95557714e-26 -4.91894067e-26 -4.88230419e-26] [0.         1.00543367 1.00543367 1.00543367 1.00543367 1.00543367\n",
      " 1.00543367 1.00543367 1.00543367 1.00543367 1.00543367 1.00543367\n",
      " 1.00543367 1.00543367 1.00543367 1.00543367 1.00543367 1.00543367\n",
      " 1.00543367 1.00543367 1.00543367 1.00543367 1.00543367 1.00543367\n",
      " 1.00543367 1.00543367 1.00543367 1.00543367 1.00543367 1.00543367\n",
      " 1.00543367 1.00543367 1.00543367 1.00543367 1.00543367 1.00543367\n",
      " 1.00543367 1.00543367 1.00543367 1.00543367 1.00543367 1.00543367\n",
      " 1.00543367 1.00543367 1.00543367 1.00543367 1.00543367 1.00543367\n",
      " 1.00543367 1.00543367 1.00543367 1.00543367 1.00543367 1.00543367\n",
      " 1.00543367 1.00543367 1.00543367 1.00543367 1.00543367 1.00543367\n",
      " 1.00543367 1.00543367 1.00543367 1.00543367 1.00543367 1.00543367\n",
      " 1.00543367 1.00543367 1.00543367 1.00543367 1.00543367 1.00543367\n",
      " 1.00543367 1.00543367 1.00543367 1.00543367 1.00543367 1.00543367\n",
      " 1.00543367 1.00543367 1.00543367 1.00543367 1.00543367 1.00543367\n",
      " 1.00543367 1.00543367 1.00543367 1.00543367 1.00543367 1.00543367\n",
      " 1.00543367 1.00543367 1.00543367 1.00543367 1.00543367 1.00543367\n",
      " 1.00543367 1.00543367 1.00543367 1.00543367]\n"
     ]
    },
    {
     "data": {
      "image/png": "[encoded data removed]",
      "text/plain": [
       "<Figure size 432x288 with 1 Axes>"
      ]
     },
     "metadata": {},
     "output_type": "display_data"
    },
    {
     "name": "stdout",
     "output_type": "stream",
     "text": [
      "Beta:  0.8638086921101928 Gamma: 159.8370702380219\n",
      "R0:  0.005404307591623453\n"
     ]
    }
   ],
   "source": [
    "def loss(point, data, recovered, s_0, i_0, r_0):\n",
    "     \n",
    "    size = len(data)\n",
    "    beta, gamma = point\n",
    "    \n",
    "    def SIR(t, y):\n",
    "        S = y[0]\n",
    "        I = y[1]\n",
    "        R = y[2]\n",
    "        return [-beta*S*I, beta*S*I-gamma*I, gamma*I]\n",
    "    solution = solve_ivp(SIR, [0, size], [s_0,i_0,r_0], t_eval=np.arange(0, size, 1), vectorized=True)\n",
    "    l1 = np.sqrt(np.mean((solution.y[1] - data)**2))\n",
    "    l2 = np.sqrt(np.mean((solution.y[2] - recovered)**2))\n",
    "    alpha = 0.1\n",
    "    return alpha * l1 + (1 - alpha) * l2\n",
    "\n",
    "confirmed = y1\n",
    "#print(confirmed.values)\n",
    "#print(confirmed)\n",
    "for i in range(len(confirmed)):\n",
    "    #print(str(confirmed.values[i]))\n",
    "    if str(confirmed[i])=='nan':\n",
    "        confirmed[i]=0\n",
    "print(confirmed)\n",
    "data = (confirmed)\n",
    "\n",
    "# Total de la poblacion\n",
    "N = 900000\n",
    "# Numero Inicial de Infectados\n",
    "I0 = 1\n",
    "# Numero de Recuperados\n",
    "R0 = 0\n",
    "# Todos los demás, S0, son susceptibles a la infección inicialmente.\n",
    "S0 = N - I0 - R0\n",
    "\n",
    "\n",
    "\n",
    "optimal = minimize(loss, [0.001, 0.001], args=(data, confirmed, S0, I0, R0), method='L-BFGS-B', bounds=[(0.00000001, 0.4), (0.00000001, 0.4)])\n",
    "\n",
    "beta, gamma = optimal.x\n",
    "\n",
    "\n",
    "beta *= 10000000\n",
    "gamma *= 100000\n",
    "# Tasa de contacto, beta (nivel de repoductividad del virus) \n",
    "# La tasa de recuperación media, gamma,(1/días) Una persona se recupera en 15 dias.\n",
    "#beta, gamma = 0.589,0.045\n",
    "# Una cuadrícula de puntos de tiempo (en días)\n",
    "t = np.linspace(0, 100, 100)\n",
    "\n",
    "# Las ecuaciones diferenciales del modelo SIR..\n",
    "def deriv(y, t, N, beta, gamma):\n",
    "    S, I, R = y\n",
    "    dSdt = -beta * S * I / N \n",
    "    dIdt = beta * S * I / N - gamma * I\n",
    "    dRdt = gamma * I\n",
    "    return dSdt, dIdt, dRdt\n",
    "\n",
    "# Vector de condiciones iniciales\n",
    "y0 = S0, I0, R0\n",
    "# Integre las ecuaciones SIR en la cuadrícula de tiempo, t. A traves de la funcion odeint()\n",
    "ret = odeint(deriv, y0, t, args=(N, beta, gamma))\n",
    "S, I, R = ret.T # Obtenicion de resultados\n",
    "\n",
    "print(S, I, R)\n",
    "\n",
    "#  Trace los datos en tres curvas separadas para S (t), I (t) y R (t)\n",
    "fig = plt.figure(facecolor='w')\n",
    "ax = fig.add_subplot(111,  axisbelow=True)\n",
    "ax.plot(t, S, 'b', alpha=0.5, lw=2, label='Sustible de infeccion')\n",
    "ax.plot(t, I, 'r', alpha=0.5, lw=2, label='Infectados')\n",
    "ax.plot(t, R, 'g', alpha=0.5, lw=2, label='Recuperados')\n",
    "ax.set_xlabel('Tiempo en dias')\n",
    "ax.set_ylabel('Numero de Personas')\n",
    "ax.set_ylim(0,N*1.2)\n",
    "ax.yaxis.set_tick_params(length=0)\n",
    "ax.xaxis.set_tick_params(length=0)\n",
    "ax.grid(b=True, which='major', c='w', lw=2, ls='-')\n",
    "legend = ax.legend()\n",
    "legend.get_frame().set_alpha(0.5)\n",
    "for spine in ('top', 'right', 'bottom', 'left'):\n",
    "    ax.spines[spine].set_visible(False)\n",
    "plt.show()\n",
    "fig.savefig(f\"Cañar.png\")\n",
    "print(\"Beta: \",beta, \"Gamma:\",gamma)\n",
    "Ro = beta/gamma\n",
    "print('R0: ',Ro)"
   ]
  },
  {
   "cell_type": "markdown",
   "metadata": {},
   "source": [
    "3. Retroceder un semana y comparar el modelo matematico vs probabilidad vs reales."
   ]
  },
  {
   "cell_type": "markdown",
   "metadata": {},
   "source": [
    "Solo cargan los datos para generar los modelos menos 7 dias."
   ]
  },
  {
   "cell_type": "code",
   "execution_count": 109,
   "metadata": {},
   "outputs": [],
   "source": [
    "xr=x1[61:len(x1)-7]\n",
    "yr=y1[61:len(y1)-7]"
   ]
  },
  {
   "cell_type": "code",
   "execution_count": 110,
   "metadata": {},
   "outputs": [
    {
     "name": "stdout",
     "output_type": "stream",
     "text": [
      "61        1.0\n",
      "62        5.0\n",
      "63        1.0\n",
      "64        NaN\n",
      "65        3.0\n",
      "66        3.0\n",
      "67        NaN\n",
      "68        NaN\n",
      "69        1.0\n",
      "70        1.0\n",
      "71        2.0\n",
      "72        NaN\n",
      "73        NaN\n",
      "74        6.0\n",
      "75        5.0\n",
      "76        9.0\n",
      "77       21.0\n",
      "78       53.0\n",
      "79       57.0\n",
      "80       31.0\n",
      "81      227.0\n",
      "82      106.0\n",
      "83      257.0\n",
      "84      192.0\n",
      "85      101.0\n",
      "86      129.0\n",
      "87      192.0\n",
      "88      224.0\n",
      "89      208.0\n",
      "90       55.0\n",
      "91       76.0\n",
      "92      336.0\n",
      "93      456.0\n",
      "94      405.0\n",
      "95      205.0\n",
      "96       97.0\n",
      "97      181.0\n",
      "98      101.0\n",
      "99      248.0\n",
      "100     455.0\n",
      "101     515.0\n",
      "102    2196.0\n",
      "103      96.0\n",
      "104     209.0\n",
      "105      63.0\n",
      "106      74.0\n",
      "107     255.0\n",
      "108     367.0\n",
      "Name: Ecuador, dtype: float64\n",
      "Mediana:  101.0\n",
      "Media:  191.27906976744185\n",
      "11284\n"
     ]
    },
    {
     "data": {
      "image/png": "[encoded data removed]",
      "text/plain": [
       "<Figure size 432x288 with 1 Axes>"
      ]
     },
     "metadata": {
      "needs_background": "light"
     },
     "output_type": "display_data"
    }
   ],
   "source": [
    "filtror = df[\"Ecuador\"][61:len(df['Ecuador'])-7] # Filtro los datos que se empezo a tener casos\n",
    "print(filtror)\n",
    "#Obtenemos la mediana\n",
    "mediar = filtror.mean()\n",
    "medianar = filtror.median()\n",
    "print('Mediana: ',medianar)\n",
    "print('Media: ',mediar)\n",
    "prediccion_siguienter = int(yr[-1] + medianar)\n",
    "print(prediccion_siguienter)\n",
    "plt.plot(xr, yr)\n",
    "plt.show()"
   ]
  },
  {
   "cell_type": "code",
   "execution_count": 111,
   "metadata": {},
   "outputs": [
    {
     "data": {
      "image/png": "[encoded data removed]",
      "text/plain": [
       "<Figure size 432x288 with 1 Axes>"
      ]
     },
     "metadata": {
      "needs_background": "light"
     },
     "output_type": "display_data"
    }
   ],
   "source": [
    "for i in range(xr[-1], xr[-1]+7):\n",
    "    xr.append(i)\n",
    "    yr.append(int(yr[-1] + medianar))\n",
    "plt.plot(xr, yr,color='red', label='Probabilidad')\n",
    "\n",
    "X_train1, X_test1, y_train1, y_test1 = train_test_split(xr, yr, test_size=0.25)\n",
    "X_train1=np.array(X_train1).reshape(-1,1)\n",
    "X_test1=np.array(X_test1).reshape(-1,1)   \n",
    "poli_reg1=PolynomialFeatures(degree=6)\n",
    "\n",
    "X_train_poli1 = poli_reg1.fit_transform(X_train1)\n",
    "X_test_p1 = poli_reg1.fit_transform(X_test1)\n",
    "pr1 = linear_model.LinearRegression()\n",
    "pr1.fit(X_train_poli1, y_train1)\n",
    "Y_predic1 = pr1.predict(X_train_poli1)\n",
    "xt1,yt1=zip(*sorted(zip(X_train1,Y_predic1)))   \n",
    "plt.plot(xt1, yt1, color='green', label='Polinomial Grado 6', lineWidth=3)\n",
    "\n",
    "\n",
    "plt.scatter(x1[61:],y1[61:], color='pink', label=\"Reales\")\n",
    "plt.show()"
   ]
  },
  {
   "cell_type": "markdown",
   "metadata": {},
   "source": [
    "# Análisis:\n",
    "\n",
    "El código de implementación del probabilístico se implementa de mejor manera pero es un poco mas expenso de entrenar ya que hay que en base a datos diarios calcular la media y mediana, es decir si no se tiene estos datos no se podria hacer nada y debemos hacer otro proceso para obtenerlos."
   ]
  },
  {
   "cell_type": "markdown",
   "metadata": {},
   "source": [
    "## Conclusion:\n",
    "\n",
    "En conclusion el modelo probabilistico se apega un poco mas a la realidad que los matemáticos como podemos ver en la grafica"
   ]
  },
  {
   "cell_type": "markdown",
   "metadata": {},
   "source": [
    "# Criterio personal (politico, economico y social de la situacion)\n",
    "\n",
    "Como criterio personal puedo acotar que la situacion actual del pais podria seguir en aumento ya que no se han hecho las pruebas necesarias y es por ello que las cifras que vemos son de dias anteriores mas no de actuales, lo que genera una vision de que cada dia aumenta sin tomar en cuenta que esos valores vienen de antes y los nuevos no conatremos con esos datos hasta los dias próximos donde notaremos si la curva decrece o sigue en aumento. Pero a pesar de esto se debe ver una solucuion ya que la economia va a ir en descenso."
   ]
  }
 ],
 "metadata": {
  "kernelspec": {
   "display_name": "Python 3",
   "language": "python",
   "name": "python3"
  },
  "language_info": {
   "codemirror_mode": {
    "name": "ipython",
    "version": 3
   },
   "file_extension": ".py",
   "mimetype": "text/x-python",
   "name": "python",
   "nbconvert_exporter": "python",
   "pygments_lexer": "ipython3",
   "version": "3.7.7"
  }
 },
 "nbformat": 4,
 "nbformat_minor": 4
}
