{
 "cells": [
  {
   "cell_type": "code",
   "execution_count": 2,
   "metadata": {},
   "outputs": [],
   "source": [
    "import random\n",
    "from prettytable import PrettyTable\n",
    "import numpy as np"
   ]
  },
  {
   "cell_type": "markdown",
   "metadata": {},
   "source": [
    "Vamos a Realizar la simulacion en este apartado para 100 veces"
   ]
  },
  {
   "cell_type": "code",
   "execution_count": 3,
   "metadata": {},
   "outputs": [
    {
     "name": "stdout",
     "output_type": "stream",
     "text": [
      "{5: 12, 7: 22, 6: 20, 8: 12, 10: 10, 3: 6, 4: 9, 11: 2, 9: 7}\n"
     ]
    }
   ],
   "source": [
    "it=1\n",
    "vals={}\n",
    "for i in range(100):\n",
    "    di = round(random.uniform(1, 6))\n",
    "    df = np.random.randint(1, 6)\n",
    "    suma=di+df \n",
    "    if(bool(vals.get(suma))== True):\n",
    "        vals[suma]=vals.get(suma)+1\n",
    "    else:\n",
    "        vals[suma]=it\n",
    "print(vals)"
   ]
  },
  {
   "cell_type": "code",
   "execution_count": 4,
   "metadata": {},
   "outputs": [
    {
     "name": "stdout",
     "output_type": "stream",
     "text": [
      "+------+------------+--------------+\n",
      "| Suma | Frecuencia | Probabilidad |\n",
      "+------+------------+--------------+\n",
      "|  5   |     12     |     0.12     |\n",
      "|  7   |     22     |     0.22     |\n",
      "|  6   |     20     |     0.2      |\n",
      "|  8   |     12     |     0.12     |\n",
      "|  10  |     10     |     0.1      |\n",
      "|  3   |     6      |     0.06     |\n",
      "|  4   |     9      |     0.09     |\n",
      "|  11  |     2      |     0.02     |\n",
      "|  9   |     7      |     0.07     |\n",
      "+------+------------+--------------+\n"
     ]
    }
   ],
   "source": [
    "claves=[]\n",
    "valores=[]\n",
    "#print(tabulate(str(vals.keys()),str(vals.value()),cabecera))\n",
    "for m in list(vals.keys()):\n",
    "    claves.append(m)\n",
    "for n in list(vals.values()):\n",
    "    valores.append(n)\n",
    "t = PrettyTable()\n",
    "t.field_names =['Suma','Frecuencia','Probabilidad']\n",
    "for o in range(len(claves)):\n",
    "    t.add_row([claves[o], valores[o],(valores[o]/100)])\n",
    "print(t)"
   ]
  },
  {
   "cell_type": "markdown",
   "metadata": {},
   "source": [
    "Ahora Realizaremos la Simulacion para 1000 veces"
   ]
  },
  {
   "cell_type": "code",
   "execution_count": 5,
   "metadata": {},
   "outputs": [
    {
     "name": "stdout",
     "output_type": "stream",
     "text": [
      "{7: 209, 6: 164, 5: 135, 11: 22, 3: 69, 9: 83, 8: 150, 10: 59, 4: 95, 2: 14}\n"
     ]
    }
   ],
   "source": [
    "it=1\n",
    "vals={}\n",
    "for i in range(1000):\n",
    "    di = round(random.uniform(1, 6))\n",
    "    df = np.random.randint(1, 6)\n",
    "    suma=di+df \n",
    "    if(bool(vals.get(suma))== True):\n",
    "        vals[suma]=vals.get(suma)+1\n",
    "    else:\n",
    "        vals[suma]=it\n",
    "print(vals)"
   ]
  },
  {
   "cell_type": "code",
   "execution_count": 6,
   "metadata": {},
   "outputs": [
    {
     "name": "stdout",
     "output_type": "stream",
     "text": [
      "+------+------------+--------------+\n",
      "| Suma | Frecuencia | Probabilidad |\n",
      "+------+------------+--------------+\n",
      "|  7   |    209     |    0.209     |\n",
      "|  6   |    164     |    0.164     |\n",
      "|  5   |    135     |    0.135     |\n",
      "|  11  |     22     |    0.022     |\n",
      "|  3   |     69     |    0.069     |\n",
      "|  9   |     83     |    0.083     |\n",
      "|  8   |    150     |     0.15     |\n",
      "|  10  |     59     |    0.059     |\n",
      "|  4   |     95     |    0.095     |\n",
      "|  2   |     14     |    0.014     |\n",
      "+------+------------+--------------+\n"
     ]
    }
   ],
   "source": [
    "claves=[]\n",
    "valores=[]\n",
    "#print(tabulate(str(vals.keys()),str(vals.value()),cabecera))\n",
    "for m in list(vals.keys()):\n",
    "    claves.append(m)\n",
    "for n in list(vals.values()):\n",
    "    valores.append(n)\n",
    "t = PrettyTable()\n",
    "t.field_names =['Suma','Frecuencia','Probabilidad']\n",
    "for o in range(len(claves)):\n",
    "    t.add_row([claves[o], valores[o],(valores[o]/1000)])\n",
    "print(t)"
   ]
  },
  {
   "cell_type": "markdown",
   "metadata": {},
   "source": [
    "Ahora realizaremos la simulacion para 10000 veces"
   ]
  },
  {
   "cell_type": "code",
   "execution_count": 7,
   "metadata": {},
   "outputs": [
    {
     "name": "stdout",
     "output_type": "stream",
     "text": [
      "{9: 981, 7: 1795, 6: 1836, 5: 1427, 3: 585, 4: 1001, 8: 1394, 10: 577, 2: 212, 11: 192}\n"
     ]
    }
   ],
   "source": [
    "it=1\n",
    "vals={}\n",
    "for i in range(10000):\n",
    "    di = round(random.uniform(1, 6))\n",
    "    df = np.random.randint(1, 6)\n",
    "    suma=di+df \n",
    "    if(bool(vals.get(suma))== True):\n",
    "        vals[suma]=vals.get(suma)+1\n",
    "    else:\n",
    "        vals[suma]=it\n",
    "print(vals)"
   ]
  },
  {
   "cell_type": "code",
   "execution_count": 8,
   "metadata": {},
   "outputs": [
    {
     "name": "stdout",
     "output_type": "stream",
     "text": [
      "+------+------------+--------------+\n",
      "| Suma | Frecuencia | Probabilidad |\n",
      "+------+------------+--------------+\n",
      "|  9   |    981     |    0.0981    |\n",
      "|  7   |    1795    |    0.1795    |\n",
      "|  6   |    1836    |    0.1836    |\n",
      "|  5   |    1427    |    0.1427    |\n",
      "|  3   |    585     |    0.0585    |\n",
      "|  4   |    1001    |    0.1001    |\n",
      "|  8   |    1394    |    0.1394    |\n",
      "|  10  |    577     |    0.0577    |\n",
      "|  2   |    212     |    0.0212    |\n",
      "|  11  |    192     |    0.0192    |\n",
      "+------+------------+--------------+\n"
     ]
    }
   ],
   "source": [
    "claves=[]\n",
    "valores=[]\n",
    "#print(tabulate(str(vals.keys()),str(vals.value()),cabecera))\n",
    "for m in list(vals.keys()):\n",
    "    claves.append(m)\n",
    "for n in list(vals.values()):\n",
    "    valores.append(n)\n",
    "t = PrettyTable()\n",
    "t.field_names =['Suma','Frecuencia','Probabilidad']\n",
    "for o in range(len(claves)):\n",
    "    t.add_row([claves[o], valores[o],(valores[o]/10000)])\n",
    "print(t)"
   ]
  }
 ],
 "metadata": {
  "kernelspec": {
   "display_name": "Python 3",
   "language": "python",
   "name": "python3"
  },
  "language_info": {
   "codemirror_mode": {
    "name": "ipython",
    "version": 3
   },
   "file_extension": ".py",
   "mimetype": "text/x-python",
   "name": "python",
   "nbconvert_exporter": "python",
   "pygments_lexer": "ipython3",
   "version": "3.7.7"
  },
  "widgets": {
   "application/vnd.jupyter.widget-state+json": {
    "state": {},
    "version_major": 2,
    "version_minor": 0
   }
  }
 },
 "nbformat": 4,
 "nbformat_minor": 2
}
