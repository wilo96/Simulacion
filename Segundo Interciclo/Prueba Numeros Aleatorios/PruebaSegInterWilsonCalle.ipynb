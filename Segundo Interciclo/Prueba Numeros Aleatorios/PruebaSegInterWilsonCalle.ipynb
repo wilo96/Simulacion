{
 "cells": [
  {
   "cell_type": "markdown",
   "metadata": {},
   "source": [
    "# Prueba Wilson Calle"
   ]
  },
  {
   "cell_type": "code",
   "execution_count": 1,
   "metadata": {},
   "outputs": [],
   "source": [
    "import pandas as pd\n",
    "from collections import Counter\n",
    "import matplotlib.pyplot as plt"
   ]
  },
  {
   "cell_type": "markdown",
   "metadata": {},
   "source": [
    "# Cuadrados Medios"
   ]
  },
  {
   "cell_type": "code",
   "execution_count": 2,
   "metadata": {},
   "outputs": [],
   "source": [
    "x0 = 8952\n",
    "digitos=4\n",
    "simulaciones=100\n",
    "iteraCC=[]\n",
    "Ni = 1\n",
    "\n",
    "for i in range(0,simulaciones):\n",
    "    LXn=[]\n",
    "    LXc=[]\n",
    "    Li=[]\n",
    "    LL=[]\n",
    "    LUi=[]\n",
    "    LRn=[]\n",
    "    XNC=[]\n",
    "    cont=0\n",
    "    iteracion=1\n",
    "    Xci=int(x0) * int(x0)\n",
    "    Xcsi=str(Xci)\n",
    "    while(len(Xcsi) < 8):\n",
    "        Xcsi=\"0\"+Xcsi\n",
    "\n",
    "    Longitudi=len(Xcsi)\n",
    "    Uii=Xcsi[int((Longitudi/2)-2):int((Longitudi/2)+2)]\n",
    "    #print(\"Semilla X0= \",x0, \"Semilla nueva= \", Uii)\n",
    "    x0=int(Uii)+100\n",
    "    Xn=x0\n",
    "    while(iteracion==1):\n",
    "        #print(iteracion)\n",
    "        Xc=int(Xn) * int(Xn)\n",
    "        Xcs=str(Xc)\n",
    "        while(len(Xcs) < 8):\n",
    "            Xcs=\"0\"+Xcs\n",
    "\n",
    "        Longitud=len(Xcs)\n",
    "        Ui=Xcs[int((Longitud/2)-2):int((Longitud/2)+2)]\n",
    "        Nn=\"1\"\n",
    "        while(len(Nn)<(digitos+1)):\n",
    "            Nn=Nn+\"0\"\n",
    "        Rn=int(Ui)/int(Nn)    \n",
    "        #print(\"Iteración: \",iteracion)\n",
    "        Li.append(iteracion)\n",
    "        #print(\"Xn: \",Xn)\n",
    "        LXn.append(Xn)\n",
    "        #print(\"Xn * Xn: \",Xcs)\n",
    "        LXc.append(Xcs)\n",
    "        #print(\"Longitud: \",Longitud)\n",
    "        #print(\"Ui: \",Ui)\n",
    "        LUi.append(Ui)\n",
    "        #print(Nn)\n",
    "        #print(\"Randomico: \",Rn)\n",
    "        LRn.append(Rn)\n",
    "        Xn=Ui\n",
    "        #print(Xn)\n",
    "        #print(LXn)\n",
    "        if Xn in LXn:\n",
    "            #print(\"Esta\")\n",
    "            #print(iteracion)\n",
    "            iteraCC.append(cont)\n",
    "            iteracion=0\n",
    "        cont=cont+1"
   ]
  },
  {
   "cell_type": "code",
   "execution_count": 3,
   "metadata": {},
   "outputs": [
    {
     "name": "stdout",
     "output_type": "stream",
     "text": [
      "[58, 29, 59, 88, 13, 91, 28, 28, 68, 55, 62, 8, 54, 28, 77, 41, 8, 48, 35, 37, 48, 51, 27, 3, 45, 12, 82, 9, 47, 13, 23, 18, 13, 86, 38, 7, 51, 5, 8, 3, 49, 54, 84, 34, 14, 55, 5, 27, 13, 19, 27, 9, 57, 55, 10, 3, 32, 56, 69, 4, 55, 36, 67, 6, 28, 70, 86, 31, 71, 18, 36, 53, 8, 9, 26, 15, 23, 47, 30, 58, 30, 77, 59, 5, 11, 6, 4, 5, 1, 1, 5, 1, 1, 5, 1, 1, 5, 1, 1, 5]\n"
     ]
    }
   ],
   "source": [
    "print(iteraCC)"
   ]
  },
  {
   "cell_type": "code",
   "execution_count": 4,
   "metadata": {},
   "outputs": [
    {
     "name": "stdout",
     "output_type": "stream",
     "text": [
      "[58, 29, 59, 88, 13, 91, 28, 68, 55, 62, 8, 54, 77, 41, 48, 35, 37, 51, 27, 3, 45, 12, 82, 9, 47, 23, 18, 86, 38, 7, 5, 49, 84, 34, 14, 19, 57, 10, 32, 56, 69, 4, 36, 67, 6, 70, 31, 71, 53, 26, 15, 30, 11, 1]\n",
      "[2, 1, 2, 1, 4, 1, 4, 1, 4, 1, 4, 2, 2, 1, 2, 1, 1, 2, 3, 3, 1, 1, 1, 3, 2, 2, 2, 2, 1, 1, 8, 1, 1, 1, 1, 1, 1, 1, 1, 1, 1, 2, 2, 1, 2, 1, 1, 1, 1, 1, 1, 2, 1, 8]\n"
     ]
    },
    {
     "data": {
      "text/plain": [
       "Text(0, 0.5, 'Numero de Repeticiones')"
      ]
     },
     "execution_count": 4,
     "metadata": {},
     "output_type": "execute_result"
    },
    {
     "data": {
      "image/png": "[encoded data removed]",
      "text/plain": [
       "<Figure size 1296x432 with 1 Axes>"
      ]
     },
     "metadata": {
      "needs_background": "light"
     },
     "output_type": "display_data"
    }
   ],
   "source": [
    "X=list(Counter(iteraCC).keys())\n",
    "Y=list(Counter(iteraCC).values())\n",
    "\n",
    "print(X)\n",
    "print(Y)\n",
    "fig, gra = plt.subplots(figsize = (18, 6))\n",
    "\n",
    "gra.bar(X,Y)\n",
    "plt.title('Historicos de Cuadrados Medios')\n",
    "plt.xlabel('Iteración')\n",
    "plt.ylabel('Numero de Repeticiones')"
   ]
  },
  {
   "cell_type": "markdown",
   "metadata": {},
   "source": [
    "# Congruencia Lineal"
   ]
  },
  {
   "cell_type": "code",
   "execution_count": 5,
   "metadata": {},
   "outputs": [],
   "source": [
    "a=3\n",
    "b=5\n",
    "m=19\n",
    "x0=1520\n",
    "\n",
    "conteo=[]\n",
    "i=0\n",
    "Xn=0.0\n",
    "Un=0.0\n",
    "\n",
    "Liter=[]\n",
    "Xni=x0\n",
    "for i in range(0,100): \n",
    "    a=a+3\n",
    "    b=b+1\n",
    "    m=m+3\n",
    "    itera=0\n",
    "    LXn=[]\n",
    "    LUn=[]\n",
    "    #print(\"Simu: \",i)\n",
    "    #print(\"Inicia con: \",Xni)\n",
    "    Xni= (a * Xni + b) % m\n",
    "    Uni=Xni/m\n",
    "    #print(\"Nueva Semilla: \",Xni)\n",
    "    Xn=Xni\n",
    "    while(itera==0):\n",
    "        Xn= (a * Xn + b) % m\n",
    "        LXn.append(Xn)\n",
    "        Un=Xn/m\n",
    "        #print(Un)\n",
    "        #print(LUn)\n",
    "        if Un in LUn:\n",
    "            #print(\"Esta\")\n",
    "            conteo.append(i)\n",
    "            itera=1\n",
    "        else:\n",
    "            LUn.append(Un)\n",
    "            i=i+1\n",
    "\n",
    "\n",
    "#print(conteo)"
   ]
  },
  {
   "cell_type": "code",
   "execution_count": 6,
   "metadata": {},
   "outputs": [
    {
     "name": "stdout",
     "output_type": "stream",
     "text": [
      "[10, 11, 3, 13, 21, 23, 8, 21, 30, 51, 16, 21, 26, 43, 15, 81, 22, 35, 36, 97, 30, 55, 32, 29, 70, 26, 28, 129, 54, 47, 36, 53, 90, 143, 44, 49, 42, 55, 55, 177, 110, 55, 60, 73, 74, 71, 48, 209, 130, 127, 64, 81, 74, 143, 76, 72, 74, 81, 100, 257, 110, 71, 68, 273, 170, 95, 76, 141, 82, 107, 84, 117, 174, 76, 104, 93, 126, 99, 79, 97, 210, 107, 148, 353, 118, 131, 87, 181, 118, 378, 108, 149, 166, 135, 112, 197, 106, 175, 176, 169]\n"
     ]
    }
   ],
   "source": [
    "print(conteo)"
   ]
  },
  {
   "cell_type": "code",
   "execution_count": 7,
   "metadata": {},
   "outputs": [
    {
     "name": "stdout",
     "output_type": "stream",
     "text": [
      "[10, 11, 3, 13, 21, 23, 8, 30, 51, 16, 26, 43, 15, 81, 22, 35, 36, 97, 55, 32, 29, 70, 28, 129, 54, 47, 53, 90, 143, 44, 49, 42, 177, 110, 60, 73, 74, 71, 48, 209, 130, 127, 64, 76, 72, 100, 257, 68, 273, 170, 95, 141, 82, 107, 84, 117, 174, 104, 93, 126, 99, 79, 210, 148, 353, 118, 131, 87, 181, 378, 108, 149, 166, 135, 112, 197, 106, 175, 176, 169]\n",
      "[1, 1, 1, 1, 3, 1, 1, 2, 1, 1, 2, 1, 1, 3, 1, 1, 2, 2, 4, 1, 1, 1, 1, 1, 1, 1, 1, 1, 2, 1, 1, 1, 1, 2, 1, 1, 3, 2, 1, 1, 1, 1, 1, 3, 1, 1, 1, 1, 1, 1, 1, 1, 1, 2, 1, 1, 1, 1, 1, 1, 1, 1, 1, 1, 1, 2, 1, 1, 1, 1, 1, 1, 1, 1, 1, 1, 1, 1, 1, 1]\n"
     ]
    },
    {
     "data": {
      "text/plain": [
       "Text(0, 0.5, 'Numero de Repeticiones')"
      ]
     },
     "execution_count": 7,
     "metadata": {},
     "output_type": "execute_result"
    },
    {
     "data": {
      "image/png": "[encoded data removed]",
      "text/plain": [
       "<Figure size 1296x432 with 1 Axes>"
      ]
     },
     "metadata": {
      "needs_background": "light"
     },
     "output_type": "display_data"
    }
   ],
   "source": [
    "XX=list(Counter(conteo).keys())\n",
    "YY=list(Counter(conteo).values())\n",
    "\n",
    "print(XX)\n",
    "print(YY)\n",
    "fig2, gra2 = plt.subplots(figsize = (18, 6))\n",
    "\n",
    "gra2.bar(XX,YY)\n",
    "plt.title('Historicos de Congruencia Lineal')\n",
    "plt.xlabel('Iteración')\n",
    "plt.ylabel('Numero de Repeticiones')"
   ]
  },
  {
   "cell_type": "markdown",
   "metadata": {},
   "source": [
    "# conclusiones\n",
    "\n",
    "Dentro de el motodo de Cuadrados Medios, al tomar una semilla partiendo de un valor dado, si generamos el método desde aquí vamos a notar un decrecimiento en cuanto a los numeros repetidos dada su posición y solo repeticion en un valor por muy alto, de lo contrario si hacemos lo mismo en el método de Congruencia Lineal notaremos un crecimiento pero los numeros repetidos serán iguales.\n",
    "\n",
    "# opiniones \n",
    "\n",
    "Los números aleatorios existirán un punto en el que estos se repetirán pero, mientras más grande sea este existirá una distancia de repetición mas prolongado con respecto a un número más pequeño.\n",
    "Es por ello que a opinion personal el método de congruencia lineal es el más efectivo para tener numeros aleatorios ya que existe una repetición muy baja tendiendo a 1.\n",
    "\n",
    "# recomendaciones\n",
    "\n",
    "Para que exista más aleatoriedad en cuanto a los números recomiendo sumar si es en el método de cuadrados medios, un valor cualquiera para que sea una semilla totalmente distinta y en el método de congruencia lineal a las variables de a, b y m se le suman numeros primos para tener asi mas notación en cuanto a la aleatoriedad nos referimos."
   ]
  }
 ],
 "metadata": {
  "kernelspec": {
   "display_name": "Python 3",
   "language": "python",
   "name": "python3"
  },
  "language_info": {
   "codemirror_mode": {
    "name": "ipython",
    "version": 3
   },
   "file_extension": ".py",
   "mimetype": "text/x-python",
   "name": "python",
   "nbconvert_exporter": "python",
   "pygments_lexer": "ipython3",
   "version": "3.7.7"
  }
 },
 "nbformat": 4,
 "nbformat_minor": 4
}
