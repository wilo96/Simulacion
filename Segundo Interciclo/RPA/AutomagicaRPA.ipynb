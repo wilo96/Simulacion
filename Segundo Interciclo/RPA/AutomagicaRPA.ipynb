{
 "cells": [
  {
   "cell_type": "code",
   "execution_count": 1,
   "metadata": {},
   "outputs": [],
   "source": [
    "from automagica import *"
   ]
  },
  {
   "cell_type": "markdown",
   "metadata": {},
   "source": [
    "# User Input\n",
    "En esta parte solo si ingreso bin el usuario y contraseña me permitirá continuar con el proyecto de lo contraio no\n",
    "\n",
    "# Keyboard\n",
    "\n",
    "Si el usuarion y contraseña fueron correctos por medio de esta automatización abro el bloc de notas, automaticamnente se escribe el texto \"si sirve\", acto seguido por medio de la combinación de teclas \"ctrl + g\" se abre la ventana de guardado y se escribe la palabra \"probar\" seguido de un enter, guardando de esta manera el archivo con el texto escrito\n",
    "\n",
    "# Cryptography\n",
    "\n",
    "por medio de la encriptación el texto que esta dentro del documento creado será codificado creando un encriptado por una clave aleatoria generada donde seguido se desencripta para verificar que el texto sea el mismo \"si sirve\"\n",
    "\n",
    "# Mouse\n",
    "\n",
    "una vez terminada toda esta automatización el mouse se moverá a la posición **x: 396 | y: 198** referente al icono de guardado dentro de jupyter y se dará click sobre el mismo guardando el proyecto"
   ]
  },
  {
   "cell_type": "code",
   "execution_count": 2,
   "metadata": {},
   "outputs": [
    {
     "name": "stdout",
     "output_type": "stream",
     "text": [
      "Clave aleatoria generada:  b'QoCw55vp92zA2gTW-ROaCUydY4C2S0Qk68XQ_WKK9HE='\n",
      "Texto Encriptado:  b'gAAAAABfHd4RSzw_24AGBA8biSCYRM4zqG4PxWsv0qSFHKkhut7zF4V7NnSDcYHcA067WzHNNGD_KTOahI7AXd5Xhgk7z4JccQ=='\n",
      "Texto Desencriptado:  si sirve\n"
     ]
    }
   ],
   "source": [
    "textoi = ask_user_input(\"Texto\", \"Ingresa usuario:\")\n",
    "contra = ask_user_password(\"Ingresa una contraseña\")\n",
    "if textoi=='wilo' and contra == '123':\n",
    "    display_message_box(\"Correcto\", \"Bienvenido Wilson Calle\")\n",
    "    run('notepad.exe')\n",
    "    press_key('s')\n",
    "    press_key('i')\n",
    "    press_key(' ')\n",
    "    press_key('s')\n",
    "    press_key('i')\n",
    "    press_key('r')\n",
    "    press_key('v')\n",
    "    press_key('e')\n",
    "    press_key_combination('ctrl', 'g')\n",
    "    press_key('p')\n",
    "    press_key('r')\n",
    "    press_key('o')\n",
    "    press_key('b')\n",
    "    press_key('a')\n",
    "    press_key('r')\n",
    "    press_key('enter')\n",
    "    clave = generate_random_key()\n",
    "    print('Clave aleatoria generada: ',clave)\n",
    "    texto= open(\"D:/Simulacion/Segundo Interciclo/RPA/probar.txt\",\"r\").read() #Cambiar la ruta dependiendo donde se guarde el documento\n",
    "    encriptado = encrypt_text_with_key(texto, clave)\n",
    "    print(\"Texto Encriptado: \", encriptado)\n",
    "    desencriptado = decrypt_text_with_key(encriptado, clave)\n",
    "    print(\"Texto Desencriptado: \", desencriptado)\n",
    "    display_message_box(\"Fin\", \"Simulación Terminada, Se procederá a guardar e proyecto\")\n",
    "    wait(2)\n",
    "    move_mouse_to(x=396, y=198) #cambiar las coordenadas a corde a su pantalla\n",
    "    click(x=396, y=198)\n",
    "else:\n",
    "    display_message_box(\"Inorrecto\", \"Prueba de nuevo\")"
   ]
  }
 ],
 "metadata": {
  "kernelspec": {
   "display_name": "Python 3",
   "language": "python",
   "name": "python3"
  },
  "language_info": {
   "codemirror_mode": {
    "name": "ipython",
    "version": 3
   },
   "file_extension": ".py",
   "mimetype": "text/x-python",
   "name": "python",
   "nbconvert_exporter": "python",
   "pygments_lexer": "ipython3",
   "version": "3.7.7"
  }
 },
 "nbformat": 4,
 "nbformat_minor": 4
}
