{
 "cells": [
  {
   "cell_type": "markdown",
   "metadata": {},
   "source": [
    "# 1.\tInvestigar el proceso de atención de un paciente diagnosticado con COVID-19, además de tiempos de atención, recursos y tipos de pacientes.\n",
    "Si el paciente tiene sospechas puede ser de dos maneras, por atención telefónica se solicita que lo visiten a hacerle pruebas de detección del virus, donde lo visitarán de 24 a 48 horas, si el paciente está de manera presencial, este será trasladado de manera individual sin acompañante y con uso de protecciones debidas a el área de pruebas, donde se le realiza la prueba, dichas muestras serán dadas en resultado en un lapso de 48 horas donde si el paciente es confirmado se procede a actuar de acuerdo a la gravedad o a la edad del paciente, donde de manera general se hace: se obtiene muestras respiratorias, se realizan radiografías del tórax, se procede a hacer un electrocardiograma, se toma muestras de sangre donde descartan o confirman la presencia de otras enfermedades, aquí se le recetan pastillas antitérmicos, medicamentos para el período de gripe en tratamiento con Oseltamivir, piden mucha hidratación, aislamiento domiciliario en caso de dales de alta hospitalaria por gravedad del asunto, en caso de que no esté quedará en aislamiento dentro del recinto, se programan visitas telefónicas a los que fueron enviados a casa de 24 y 48 horas de evaluación clínica, dependiendo la gravedad del caso se les asigna un tratamiento más leve o más avanzado con diferentes medicamentos y dependiendo si no presentan más enfermedades, una vez el paciente cumple con el tiempo de aislamiento domiciliario se le realizan nuevas pruebas donde si resulta negativo se le solicita otro aislamiento en su domicilio o son dados de alta hospitalaria y enviados a aislamiento domiciliario hasta nueva orden para eliminar residuos del virus.\n"
   ]
  },
  {
   "cell_type": "markdown",
   "metadata": {},
   "source": [
    "# 2.\tInvestigar en cada una de las provincias asignadas el número de hospitales, camas, respiradores y personal médico, limpieza.\n",
    "\n",
    "### CAÑAR:\n",
    "\n",
    "En Cañar existen 3 hospitales: un total de 273 camas disponibles, tiene en total 119 empleados entre médicos, limpieza, administrativos, etc., no hay información sobre respiradores disponibles.\n"
   ]
  },
  {
   "cell_type": "markdown",
   "metadata": {},
   "source": [
    "# 3.\tFinalmente, el costo de atender a un paciente con COVID-19 y medicamentos.\n",
    "El costo depende sea el caso, pero un estimado es de $332.32 en pruebas y exámenes.\n",
    "\n",
    "Los medicamentos comunes a usar son:\n",
    "\n",
    "    • Lopinavir/ritonavir (Kaletra®) \n",
    "    • Hidroxicloroquina sulfato (Dolquine®) 400 mg\n",
    "    • Azitromicina500mg + 250mg\n",
    "    • Ceftriaxona\n",
    "    • teicoplanina 400 mg \n"
   ]
  }
 ],
 "metadata": {
  "kernelspec": {
   "display_name": "Python 3",
   "language": "python",
   "name": "python3"
  },
  "language_info": {
   "codemirror_mode": {
    "name": "ipython",
    "version": 3
   },
   "file_extension": ".py",
   "mimetype": "text/x-python",
   "name": "python",
   "nbconvert_exporter": "python",
   "pygments_lexer": "ipython3",
   "version": "3.7.7"
  }
 },
 "nbformat": 4,
 "nbformat_minor": 4
}
