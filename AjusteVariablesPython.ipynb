{
 "cells": [
  {
   "cell_type": "markdown",
   "metadata": {},
   "source": [
    "# Probabilidad y Estadística con Python"
   ]
  },
  {
   "cell_type": "markdown",
   "metadata": {},
   "source": [
    "## ¿Qué es la Estadística?\n",
    "\n",
    "La estadística suele ser definida como la ciencia de aprender de los datos o como la ciencia de obtener conclusiones en la presencia de incertidumbre. Se relaciona principalmente con la recolección, análisis e interpretación de datos, así como también con la efectiva comunicación y presentación de los resultados basados en esos datos. Como por datos entendemos a cualquier clase de información grabada, la estadística juego un rol importante en muchas disciplinas científicas.\n",
    "\n",
    "La estadística suele ser dividida en dos grandes ramas:\n",
    "\n",
    "La estadística descriptiva: La cual se dedica a recolectar, ordenar, analizar y representar a un conjunto de datos, con el fin de describir apropiadamente las características de este. Calcula los parámetros estadísticos que describen el conjunto estudiado. Algunas de las herramientas que utiliza son gráficos, medidas de frecuencias, medidas de centralización, medidas de posición, medidas de dispersión, entre otras.\n",
    "\n",
    "La estadistica inferencial: La cual estudia cómo sacar conclusiones generales para toda la población a partir del estudio de una muestra, y el grado de fiabilidad o significación de los resultados obtenidos. Sus principales herramientas son el muestreo, la estimación de parámetros y el contraste de hipótesis."
   ]
  },
  {
   "cell_type": "markdown",
   "metadata": {},
   "source": [
    "## Conceptos básicos de la estadística descriptiva\n",
    "\n",
    "En *[estadística descriptiva](https://es.wikipedia.org/wiki/Estad%C3%ADstica_descriptiva)* se utilizan distintas medidas para intentar describir las propiedades de nuestros datos, algunos de los conceptos básicos, son:\n",
    "\n",
    "* **Media aritmética**: La [media aritmética](https://es.wikipedia.org/wiki/Media_aritm%C3%A9tica) es el valor obtenido al sumar todos los *[datos](https://es.wikipedia.org/wiki/Dato)* y dividir el resultado entre el número total elementos. Se suele representar con la letra griega $\\mu$. Si tenemos una [muestra](https://es.wikipedia.org/wiki/Muestra_estad%C3%ADstica) de $n$ valores, $x_i$, la *media aritmética*, $\\mu$, es la suma de los valores divididos por el numero de elementos; en otras palabras:\n",
    "$$\\mu = \\frac{1}{n} \\sum_{i}x_i$$\n",
    "\n",
    "\n",
    "* **Desviación respecto a la media**: La desviación respecto a la media es la diferencia en valor absoluto entre cada valor de la variable estadística y la media aritmética.\n",
    "$$D_i = |x_i - \\mu|$$\n",
    "\n",
    "\n",
    "* **Varianza**: La [varianza](https://es.wikipedia.org/wiki/Varianza) es la media aritmética del cuadrado de las desviaciones respecto a la media de una distribución estadística. La varianza intenta describir la dispersión de los *[datos](https://es.wikipedia.org/wiki/Dato)*. Se representa como $\\sigma^2$. \n",
    "$$\\sigma^2 = \\frac{\\sum\\limits_{i=1}^n(x_i - \\mu)^2}{n} $$\n",
    "\n",
    "\n",
    "* **Desviación típica**: La [desviación típica](https://es.wikipedia.org/wiki/Desviaci%C3%B3n_t%C3%ADpica) es la raíz cuadrada de la varianza. Se representa con la letra griega $\\sigma$.\n",
    "$$\\sigma = \\sqrt{\\frac{\\sum\\limits_{i=1}^n(x_i - \\mu)^2}{n}} $$\n",
    "\n",
    "\n",
    "* **Moda**: La <a href=\"https://es.wikipedia.org/wiki/Moda_(estad%C3%ADstica)\">moda</a> es el valor que tiene mayor frecuencia absoluta. Se representa con $M_0$\n",
    "\n",
    "\n",
    "* **Mediana**: La <a href=\"https://es.wikipedia.org/wiki/Mediana_(estad%C3%ADstica)\">mediana</a> es el valor que ocupa el lugar central de todos los datos cuando éstos están ordenados de menor a mayor. Se representa con $\\widetilde{x}$.\n",
    "\n"
   ]
  },
  {
   "cell_type": "markdown",
   "metadata": {},
   "source": [
    "### Ejemplos en Python\n",
    "\n",
    "Calcular los principales indicadores de la *[estadística descriptiva](https://es.wikipedia.org/wiki/Estad%C3%ADstica_descriptiva)* con [Python](http://python.org/) es muy fácil!."
   ]
  },
  {
   "cell_type": "code",
   "execution_count": 3,
   "metadata": {},
   "outputs": [],
   "source": [
    "# Ejemplos de estadistica descriptiva con python\n",
    "\n",
    "import numpy as np # importando numpy\n",
    "from scipy import stats # importando scipy.stats\n",
    "import pandas as pd # importando pandas\n",
    "\n",
    "np.random.seed(2131982) # para poder replicar el random"
   ]
  },
  {
   "cell_type": "code",
   "execution_count": 6,
   "metadata": {},
   "outputs": [
    {
     "data": {
      "text/plain": [
       "array([[ 3.37845735, -0.62283565, -0.47535975, -1.16048976, -0.75230959,\n",
       "        -1.02773202,  0.89032644, -0.01665677, -0.74188939,  0.17423645,\n",
       "        -0.32335295, -1.24209569, -0.74711227,  0.56138094,  0.12171755,\n",
       "         0.78724589, -0.33630745,  0.57156945, -0.8963711 ,  1.07938671,\n",
       "        -0.60323096, -0.3906286 ,  0.37563184, -0.07654127, -1.12180621,\n",
       "         0.23726097,  1.04278369,  0.27436174, -0.74860801,  1.56607369,\n",
       "        -0.69640236,  0.91988538, -0.39403564,  0.67869481, -0.17896859,\n",
       "         1.5404064 , -0.60331578, -0.94487518,  1.16154966, -0.82017736,\n",
       "         0.31853599,  1.16466676,  0.76689068, -0.96796701, -0.59547803,\n",
       "         1.3294564 ,  0.3317116 ,  0.13346594, -0.97683953,  0.2257734 ,\n",
       "         3.07956285,  1.32529782,  1.88349095, -0.9204549 , -1.2934461 ,\n",
       "        -1.97658254,  3.32278344, -0.68740069,  0.04924557, -1.21955977,\n",
       "        -0.50169917,  0.32205951,  0.83030543,  0.615787  , -1.21686892,\n",
       "         0.54047178, -1.69755411, -0.74117891,  0.73429395,  1.04029574,\n",
       "         0.33328872, -0.54916917,  2.18339138,  1.24352046, -0.3795665 ,\n",
       "         1.32617934, -0.39444365,  1.74778894,  2.28823972, -0.84503403,\n",
       "         1.68255079, -0.09015479,  0.21793748,  0.90613417,  1.35911887,\n",
       "        -0.44093268,  0.39658109,  0.17806166,  0.1868147 ,  0.41801055,\n",
       "        -0.43880657,  1.042318  , -1.39810701,  0.77768089, -0.51176942,\n",
       "         1.84371331,  1.03088943, -0.44618167, -0.3203405 ,  0.24542518,\n",
       "         0.94715919,  1.13545295,  0.53377448,  1.73364565, -0.4659909 ,\n",
       "         0.819192  ,  1.02321564,  1.75097843,  1.12090212, -1.63042817,\n",
       "        -1.19745795, -0.83256852,  0.47638136,  0.03397963,  0.8768321 ,\n",
       "        -0.71502787,  1.52156366, -0.14351304,  1.37496395,  0.74594722,\n",
       "        -0.49705669,  0.90247693, -1.12480279,  0.25143554,  1.11047217,\n",
       "         0.51248679,  0.35116073, -0.16927414,  0.70919697, -0.96463612,\n",
       "         1.47245747,  0.82993958,  0.04793406,  0.21135732, -0.38420114,\n",
       "        -1.53279871,  0.93041634,  0.83142291, -1.20520925, -0.02632491,\n",
       "         0.06236853, -0.18264138,  0.7671347 , -1.17057847,  0.02840703,\n",
       "        -0.84312348, -0.67497035, -0.93362458,  0.12469038,  0.47517556,\n",
       "        -0.02150629, -1.72642902,  0.42998819, -0.60080449,  0.43327599,\n",
       "         0.91891735,  1.61022513,  0.06697059,  0.68942612, -0.13726942,\n",
       "        -0.43699239,  1.19964114, -0.31827536, -0.18968136, -0.38625387,\n",
       "         1.32794236,  1.42768421, -0.03642475, -0.86925355, -1.11643357,\n",
       "         0.44516456, -0.16758724,  0.64768661, -2.02221938,  0.96541629,\n",
       "        -1.49173957, -0.45718037,  1.41846255, -0.43459049, -2.91044933,\n",
       "         0.28083014, -0.65013593,  0.01784339, -0.9935944 , -1.19219755,\n",
       "         1.09928096,  0.18362004, -2.91519493, -0.43784876,  0.13067866,\n",
       "         0.52090195,  2.48181744, -0.32011815,  0.74416568,  0.36709923,\n",
       "        -0.68416574,  0.2470434 , -0.72974401,  2.46445574, -0.0433496 ,\n",
       "        -0.28160032,  0.8144112 , -1.74536153, -0.9837709 , -1.73163775,\n",
       "        -0.75177137,  0.20066499, -2.0904364 ,  1.30005215,  0.87871813,\n",
       "         0.27292888,  0.85594414, -1.37384418, -0.68223386,  0.77744306,\n",
       "        -1.77865256,  1.37573592, -1.96323636,  0.58177316,  0.54713451,\n",
       "         0.06953377,  0.82846186,  0.01096958,  1.00907413,  0.81494417,\n",
       "         0.22111735, -0.01016808, -0.85616798,  1.10442716, -0.63118718,\n",
       "        -0.64318201, -1.08458779, -0.22250778,  0.84896913, -0.41117162,\n",
       "         0.49147111,  0.10148874,  0.57165461,  0.46285193,  0.62187536]])"
      ]
     },
     "execution_count": 6,
     "metadata": {},
     "output_type": "execute_result"
    }
   ],
   "source": [
    "datos = np.random.randn(1, 240) # datos normalmente distribuidos\n",
    "datos"
   ]
  },
  {
   "cell_type": "code",
   "execution_count": 7,
   "metadata": {},
   "outputs": [
    {
     "data": {
      "text/plain": [
       "0.10258162043530798"
      ]
     },
     "execution_count": 7,
     "metadata": {},
     "output_type": "execute_result"
    }
   ],
   "source": [
    "# media arítmetica\n",
    "datos.mean() # Calcula la media aritmetica de"
   ]
  },
  {
   "cell_type": "code",
   "execution_count": 5,
   "metadata": {},
   "outputs": [
    {
     "data": {
      "text/plain": [
       "241.0"
      ]
     },
     "execution_count": 5,
     "metadata": {},
     "output_type": "execute_result"
    }
   ],
   "source": [
    "np.mean(241) # Mismo resultado desde la funcion de numpy"
   ]
  },
  {
   "cell_type": "code",
   "execution_count": 5,
   "metadata": {},
   "outputs": [
    {
     "data": {
      "text/plain": [
       "array([-0.47228757, -0.40416312,  0.71199682, -0.33806709, -0.23679421])"
      ]
     },
     "execution_count": 5,
     "metadata": {},
     "output_type": "execute_result"
    }
   ],
   "source": [
    "datos.mean(axis=1) # media aritmetica de cada fila"
   ]
  },
  {
   "cell_type": "code",
   "execution_count": 6,
   "metadata": {},
   "outputs": [
    {
     "data": {
      "text/plain": [
       "array([ 0.0791985 , -0.61180267,  0.23061642, -0.2894644 ])"
      ]
     },
     "execution_count": 6,
     "metadata": {},
     "output_type": "execute_result"
    }
   ],
   "source": [
    "datos.mean(axis=0) # media aritmetica de cada columna"
   ]
  },
  {
   "cell_type": "code",
   "execution_count": 7,
   "metadata": {},
   "outputs": [
    {
     "data": {
      "text/plain": [
       "-0.23234258265023794"
      ]
     },
     "execution_count": 7,
     "metadata": {},
     "output_type": "execute_result"
    }
   ],
   "source": [
    "# mediana\n",
    "np.median(datos) "
   ]
  },
  {
   "cell_type": "code",
   "execution_count": 8,
   "metadata": {},
   "outputs": [
    {
     "data": {
      "text/plain": [
       "array([-0.1074033 , -0.88138082, -0.34466623, -0.18148302])"
      ]
     },
     "execution_count": 8,
     "metadata": {},
     "output_type": "execute_result"
    }
   ],
   "source": [
    "np.median(datos, 0) # media aritmetica de cada columna"
   ]
  },
  {
   "cell_type": "code",
   "execution_count": 9,
   "metadata": {},
   "outputs": [
    {
     "data": {
      "text/plain": [
       "0.73755354584071608"
      ]
     },
     "execution_count": 9,
     "metadata": {},
     "output_type": "execute_result"
    }
   ],
   "source": [
    " # Desviación típica\n",
    "np.std(datos)"
   ]
  },
  {
   "cell_type": "code",
   "execution_count": 10,
   "metadata": {},
   "outputs": [
    {
     "data": {
      "text/plain": [
       "array([ 0.58057213,  0.78352862,  0.87384108,  0.17682485])"
      ]
     },
     "execution_count": 10,
     "metadata": {},
     "output_type": "execute_result"
    }
   ],
   "source": [
    "np.std(datos, 0) # Desviación típica de cada columna"
   ]
  },
  {
   "cell_type": "code",
   "execution_count": 11,
   "metadata": {},
   "outputs": [
    {
     "data": {
      "text/plain": [
       "0.54398523298221324"
      ]
     },
     "execution_count": 11,
     "metadata": {},
     "output_type": "execute_result"
    }
   ],
   "source": [
    "# varianza\n",
    "np.var(datos) "
   ]
  },
  {
   "cell_type": "code",
   "execution_count": 12,
   "metadata": {},
   "outputs": [
    {
     "data": {
      "text/plain": [
       "array([ 0.337064  ,  0.6139171 ,  0.76359823,  0.03126703])"
      ]
     },
     "execution_count": 12,
     "metadata": {},
     "output_type": "execute_result"
    }
   ],
   "source": [
    "np.var(datos, 0) # varianza de cada columna"
   ]
  },
  {
   "cell_type": "code",
   "execution_count": 13,
   "metadata": {},
   "outputs": [
    {
     "data": {
      "text/plain": [
       "(array([[-0.76959435, -1.37414587, -0.62681496, -0.63329028]]),\n",
       " array([[ 1.,  1.,  1.,  1.]]))"
      ]
     },
     "execution_count": 13,
     "metadata": {},
     "output_type": "execute_result"
    }
   ],
   "source": [
    "# moda\n",
    "stats.mode(datos) # Calcula la moda de cada columna\n",
    "# el 2do array devuelve la frecuencia."
   ]
  },
  {
   "cell_type": "code",
   "execution_count": 4,
   "metadata": {},
   "outputs": [
    {
     "data": {
      "text/plain": [
       "ModeResult(mode=array([6]), count=array([5]))"
      ]
     },
     "execution_count": 4,
     "metadata": {},
     "output_type": "execute_result"
    }
   ],
   "source": [
    "datos2 = np.array([1, 2, 3, 6, 6, 1, 2, 4, 2, 2, 6, 6, 8, 10, 6])\n",
    "stats.mode(datos2) # aqui la moda es el 6 porque aparece 5 veces en el vector."
   ]
  },
  {
   "cell_type": "markdown",
   "metadata": {},
   "source": [
    "## Practica :\n",
    "Generar un modelo que me permita simular el uso de recursos de los hospitales por cada una de las provincias, para ello obtener la informacion revisada en la practica de investigacion y tomar como ejemplo la practica de simulacion de atencion de paciente del COVID revisada en clase. Lo que se busca es poder generar graficos de uso de recursos:\n",
    "\n",
    "- Costos (Generar un aproximacion de cuanto se invierte para atender a un paciente con COVID)\n",
    "- Personal (Aproximacion del uso del personal por paciente, o el hospital)\n",
    "- Camas\n",
    "- Equipos/Insumos medicos (Obtener una aproximacion del uso de equipos medicos)\n",
    "- Pacientes (Informacion obtenida desde el ministerio de salud - validar con el porcentual del tipo de paciente [ninio 10%, adulto 30%, riesgo 60%]) - Hospitalizacion 80%, Otros 20%\n",
    "\n",
    "\n",
    "Para ello deberan generar un modelo lo mas cercano a la realidad, y con ayuda de la estadistica descriptiva ajustar los valores. Es importante tener como datos de entrada el dia y el numero de pacientes.\n",
    "\n",
    "Finalmente validar el modelo con lo la realidad del pais (Investigar en  base al tema el uso de los recursos publicos )\n"
   ]
  },
  {
   "cell_type": "code",
   "execution_count": 26,
   "metadata": {},
   "outputs": [
    {
     "name": "stdout",
     "output_type": "stream",
     "text": [
      "La taza de crecimiento es  1\n",
      "Simulacion COVID 19 en CAÑAR\n",
      "Llega paciente nuevo :  0  hospital IESS tiempo  0\n",
      "Llega paciente nuevo :  1  hospital Publico tiempo  0\n",
      "Llega paciente nuevo :  2  hospital Publico tiempo  0\n",
      "Llega paciente nuevo :  3  hospital Publico tiempo  0\n",
      "Llega paciente nuevo :  4  hospital IESS tiempo  0\n",
      "Llega paciente nuevo :  5  hospital IESS tiempo  0\n",
      "Llega paciente nuevo :  6  hospital Publico tiempo  0\n",
      "Llega paciente nuevo :  7  hospital Publico tiempo  0\n",
      "Llega paciente nuevo :  8  hospital Publico tiempo  0\n",
      "Llega paciente nuevo :  9  hospital IESS tiempo  0\n",
      "Llega paciente nuevo :  10  hospital IESS tiempo  0\n",
      "Llega paciente nuevo :  11  hospital IESS tiempo  0\n",
      "Llega paciente nuevo :  12  hospital IESS tiempo  0\n",
      "Llega paciente nuevo :  13  hospital IESS tiempo  0\n",
      "Llega paciente nuevo :  14  hospital Publico tiempo  0\n",
      "Llega paciente nuevo :  15  hospital IESS tiempo  0\n",
      "Llega paciente nuevo :  16  hospital IESS tiempo  0\n",
      "Llega paciente nuevo :  17  hospital IESS tiempo  0\n",
      "Llega paciente nuevo :  18  hospital IESS tiempo  0\n",
      "Llega paciente nuevo :  19  hospital IESS tiempo  0\n",
      "Llega paciente nuevo :  20  hospital Publico tiempo  0\n",
      "Llega paciente nuevo :  21  hospital Publico tiempo  0\n",
      "Llega paciente nuevo :  22  hospital Publico tiempo  0\n",
      "Llega paciente nuevo :  23  hospital Publico tiempo  0\n",
      "Llega paciente nuevo :  24  hospital IESS tiempo  0\n",
      "Llega paciente nuevo :  25  hospital Publico tiempo  0\n",
      "Llega paciente nuevo :  26  hospital IESS tiempo  0\n",
      "Llega paciente nuevo :  27  hospital IESS tiempo  0\n",
      "Llega paciente nuevo :  28  hospital Publico tiempo  0\n",
      "Llega paciente nuevo :  29  hospital IESS tiempo  0\n",
      "Llega paciente nuevo :  30  hospital Publico tiempo  0\n",
      "Llega paciente nuevo :  31  hospital Publico tiempo  0\n",
      "Llega paciente nuevo :  32  hospital Publico tiempo  0\n",
      "Llega paciente nuevo :  33  hospital Publico tiempo  0\n",
      "Llega paciente nuevo :  34  hospital IESS tiempo  0\n",
      "Llega paciente nuevo :  35  hospital IESS tiempo  0\n",
      "Llega paciente nuevo :  36  hospital Publico tiempo  0\n",
      "Llega paciente nuevo :  37  hospital Publico tiempo  0\n",
      "Llega paciente nuevo :  38  hospital IESS tiempo  0\n",
      "Llega paciente nuevo :  39  hospital IESS tiempo  0\n",
      "Llega paciente nuevo :  40  hospital Publico tiempo  0\n",
      "El paciente:  0  tiene una CAMA   hospital  IESS\n",
      "El paciente:  1  tiene una CAMA   hospital  Publico\n",
      "El paciente:  2  tiene una CAMA   hospital  Publico\n",
      "El paciente:  3  tiene una CAMA   hospital  Publico\n",
      "El paciente:  4  tiene una CAMA   hospital  IESS\n",
      "Al paciente:  5  se le asigna una CAMA   hospital  IESS\n",
      "El paciente:  6  tiene una CAMA   hospital  Publico\n",
      "Al paciente:  7  se le asigna una CAMA   hospital  Publico\n",
      "El paciente:  8  tiene una CAMA   hospital  Publico\n",
      "El paciente:  9  tiene una CAMA   hospital  IESS\n",
      "El paciente:  10  tiene una CAMA   hospital  IESS\n",
      "Al paciente:  11  se le asigna una CAMA   hospital  IESS\n",
      "El paciente:  12  tiene una CAMA   hospital  IESS\n",
      "El paciente:  13  tiene una CAMA   hospital  IESS\n",
      "Al paciente:  14  se le asigna una CAMA   hospital  Publico\n",
      "El paciente:  15  tiene una CAMA   hospital  IESS\n",
      "El paciente:  16  tiene una CAMA   hospital  IESS\n",
      "El paciente:  17  tiene una CAMA   hospital  IESS\n",
      "El paciente:  18  tiene una CAMA   hospital  IESS\n",
      "El paciente:  19  tiene una CAMA   hospital  IESS\n",
      "El paciente:  20  tiene una CAMA   hospital  Publico\n",
      "El paciente:  21  tiene una CAMA   hospital  Publico\n",
      "El paciente:  22  tiene una CAMA   hospital  Publico\n",
      "El paciente:  23  tiene una CAMA   hospital  Publico\n",
      "El paciente:  24  tiene una CAMA   hospital  IESS\n",
      "El paciente:  25  tiene una CAMA   hospital  Publico\n",
      "El paciente:  26  tiene una CAMA   hospital  IESS\n",
      "El paciente:  27  tiene una CAMA   hospital  IESS\n",
      "El paciente:  28  tiene una CAMA   hospital  Publico\n",
      "El paciente:  29  tiene una CAMA   hospital  IESS\n",
      "El paciente:  30  tiene una CAMA   hospital  Publico\n",
      "Al paciente:  31  se le asigna una CAMA   hospital  Publico\n",
      "El paciente:  32  tiene una CAMA   hospital  Publico\n",
      "El paciente:  33  tiene una CAMA   hospital  Publico\n",
      "El paciente:  34  tiene una CAMA   hospital  IESS\n",
      "El paciente:  35  tiene una CAMA   hospital  IESS\n",
      "Al paciente:  36  se le asigna una CAMA   hospital  Publico\n",
      "El paciente:  37  tiene una CAMA   hospital  Publico\n",
      "El paciente:  38  tiene una CAMA   hospital  IESS\n",
      "El paciente:  39  tiene una CAMA   hospital  IESS\n",
      "El paciente:  40  tiene una CAMA   hospital  Publico\n",
      "Llega paciente nuevo :  42  hospital IESS tiempo  1\n",
      "El paciente:  42  tiene una CAMA   hospital  IESS\n",
      "Llega paciente nuevo :  43  hospital IESS tiempo  2\n",
      "El paciente:  43  tiene una CAMA   hospital  IESS\n",
      "Llega paciente nuevo :  44  hospital Publico tiempo  3\n",
      "El paciente:  44  tiene una CAMA   hospital  Publico\n",
      "Llega paciente nuevo :  45  hospital IESS tiempo  4\n",
      "Al paciente:  45  se le asigna una CAMA   hospital  IESS\n",
      "El paciente recibe una cama:  6  al tiempo:  5  hospital  Publico\n",
      "El paciente recibe una cama:  12  al tiempo:  5  hospital  IESS\n",
      "Llega paciente nuevo :  46  hospital Publico tiempo  5\n",
      "Al paciente:  46  se le asigna una CAMA   hospital  Publico\n",
      "El paciente:  6  es atendido por el personal   hospital  Publico\n",
      "El paciente:  12  es atendido por el personal   hospital  IESS\n",
      "El paciente recibe una cama:  11  al tiempo:  6  hospital  IESS\n",
      "El paciente recibe una cama:  13  al tiempo:  6  hospital  IESS\n",
      "El paciente recibe una cama:  39  al tiempo:  6  hospital  IESS\n",
      "Llega paciente nuevo :  47  hospital Publico tiempo  6\n",
      "El paciente:  47  tiene una CAMA   hospital  Publico\n",
      "Al paciente:  11  recive al personal   hospital  IESS\n",
      "El paciente:  13  es atendido por el personal   hospital  IESS\n",
      "El paciente:  39  es atendido por el personal   hospital  IESS\n",
      "El paciente recibe una cama:  10  al tiempo:  7  hospital  IESS\n",
      "El paciente recibe una cama:  19  al tiempo:  7  hospital  IESS\n",
      "El paciente recibe una cama:  25  al tiempo:  7  hospital  Publico\n",
      "El paciente recibe una cama:  26  al tiempo:  7  hospital  IESS\n",
      "El paciente recibe una cama:  35  al tiempo:  7  hospital  IESS\n",
      "El paciente recibe una cama:  40  al tiempo:  7  hospital  Publico\n",
      "Llega paciente nuevo :  48  hospital IESS tiempo  7\n",
      "El paciente:  48  tiene una CAMA   hospital  IESS\n",
      "El paciente:  10  es atendido por el personal   hospital  IESS\n",
      "El paciente:  19  es atendido por el personal   hospital  IESS\n",
      "El paciente:  25  es atendido por el personal   hospital  Publico\n",
      "El paciente:  26  es atendido por el personal   hospital  IESS\n",
      "El paciente:  35  es atendido por el personal   hospital  IESS\n",
      "El paciente:  40  es atendido por el personal   hospital  Publico\n",
      "El paciente recibe una cama:  0  al tiempo:  8  hospital  IESS\n",
      "El paciente recibe una cama:  2  al tiempo:  8  hospital  Publico\n",
      "El paciente recibe una cama:  4  al tiempo:  8  hospital  IESS\n",
      "El paciente recibe una cama:  5  al tiempo:  8  hospital  IESS\n",
      "El paciente recibe una cama:  7  al tiempo:  8  hospital  Publico\n",
      "El paciente recibe una cama:  15  al tiempo:  8  hospital  IESS\n",
      "El paciente recibe una cama:  21  al tiempo:  8  hospital  Publico\n",
      "El paciente recibe una cama:  42  al tiempo:  8  hospital  IESS\n",
      "El paciente recibe al personal:  6  al tiempo:  8  hospital  Publico\n",
      "El paciente recibe al personal:  39  al tiempo:  8  hospital  IESS\n",
      "Llega paciente nuevo :  49  hospital IESS tiempo  8\n",
      "El paciente:  49  tiene una CAMA   hospital  IESS\n",
      "El paciente:  0  es atendido por el personal   hospital  IESS\n",
      "El paciente:  2  es atendido por el personal   hospital  Publico\n",
      "El paciente:  4  es atendido por el personal   hospital  IESS\n",
      "Al paciente:  5  recive al personal   hospital  IESS\n",
      "Al paciente:  7  recive al personal   hospital  Publico\n",
      "El paciente:  15  es atendido por el personal   hospital  IESS\n",
      "El paciente:  21  es atendido por el personal   hospital  Publico\n",
      "El paciente:  42  es atendido por el personal   hospital  IESS\n",
      "El paciente:  6  tiene equipos   hospital  Publico\n",
      "El paciente:  39  tiene equipos   hospital  IESS\n",
      "El paciente recibe una cama:  27  al tiempo:  9  hospital  IESS\n",
      "El paciente recibe al personal:  11  al tiempo:  9  hospital  IESS\n",
      "El paciente recibe al personal:  26  al tiempo:  9  hospital  IESS\n",
      "El paciente recibe al personal:  35  al tiempo:  9  hospital  IESS\n",
      "Llega paciente nuevo :  50  hospital IESS tiempo  9\n",
      "El paciente:  50  tiene una CAMA   hospital  IESS\n",
      "El paciente:  27  es atendido por el personal   hospital  IESS\n",
      "Al paciente:  11  se le asignan equipos   hospital  IESS\n",
      "El paciente:  26  tiene equipos   hospital  IESS\n",
      "El paciente:  35  tiene equipos   hospital  IESS\n",
      "El paciente recibe una cama:  16  al tiempo:  10  hospital  IESS\n",
      "El paciente recibe una cama:  23  al tiempo:  10  hospital  Publico\n",
      "El paciente recibe una cama:  37  al tiempo:  10  hospital  Publico\n",
      "El paciente recibe al personal:  10  al tiempo:  10  hospital  IESS\n",
      "El paciente recibe al personal:  0  al tiempo:  10  hospital  IESS\n",
      "El paciente recibe al personal:  21  al tiempo:  10  hospital  Publico\n",
      "El paciente Recibe equipos:  6  al tiempo:  10  hospital  Publico\n",
      "Llega paciente nuevo :  51  hospital IESS tiempo  10\n",
      "Paciente se recupera\n",
      "El paciente:  51  tiene una CAMA   hospital  IESS\n",
      "El paciente:  16  es atendido por el personal   hospital  IESS\n",
      "El paciente:  23  es atendido por el personal   hospital  Publico\n",
      "El paciente:  37  es atendido por el personal   hospital  Publico\n",
      "El paciente:  10  tiene equipos   hospital  IESS\n",
      "El paciente:  0  tiene equipos   hospital  IESS\n",
      "El paciente:  21  tiene equipos   hospital  Publico\n",
      "El paciente:  6  tiene una CAMA   hospital  Publico\n",
      "El paciente recibe una cama:  20  al tiempo:  11  hospital  Publico\n",
      "El paciente recibe una cama:  28  al tiempo:  11  hospital  Publico\n",
      "El paciente recibe una cama:  29  al tiempo:  11  hospital  IESS\n",
      "El paciente recibe al personal:  13  al tiempo:  11  hospital  IESS\n",
      "El paciente recibe al personal:  25  al tiempo:  11  hospital  Publico\n",
      "El paciente recibe al personal:  4  al tiempo:  11  hospital  IESS\n",
      "El paciente Recibe equipos:  11  al tiempo:  11  hospital  IESS\n",
      "El paciente Recibe equipos:  35  al tiempo:  11  hospital  IESS\n",
      "Llega paciente nuevo :  52  hospital Publico tiempo  11\n",
      "Paciente se recupera\n",
      "Paciente se recupera\n",
      "El paciente:  52  tiene una CAMA   hospital  Publico\n",
      "El paciente:  20  es atendido por el personal   hospital  Publico\n",
      "El paciente:  28  es atendido por el personal   hospital  Publico\n",
      "El paciente:  29  es atendido por el personal   hospital  IESS\n",
      "El paciente:  13  tiene equipos   hospital  IESS\n",
      "El paciente:  25  tiene equipos   hospital  Publico\n",
      "El paciente:  4  tiene equipos   hospital  IESS\n",
      "El paciente:  11  tiene una CAMA   hospital  IESS\n",
      "El paciente recibe una cama:  3  al tiempo:  12  hospital  Publico\n",
      "El paciente recibe una cama:  8  al tiempo:  12  hospital  Publico\n",
      "El paciente recibe una cama:  14  al tiempo:  12  hospital  Publico\n",
      "El paciente recibe una cama:  18  al tiempo:  12  hospital  IESS\n",
      "El paciente recibe una cama:  45  al tiempo:  12  hospital  IESS\n",
      "El paciente recibe al personal:  7  al tiempo:  12  hospital  Publico\n",
      "El paciente recibe al personal:  42  al tiempo:  12  hospital  IESS\n",
      "El paciente Recibe equipos:  39  al tiempo:  12  hospital  IESS\n",
      "El paciente recibe al personal:  27  al tiempo:  12  hospital  IESS\n",
      "El paciente Recibe equipos:  26  al tiempo:  12  hospital  IESS\n",
      "Llega paciente nuevo :  53  hospital IESS tiempo  12\n",
      "Paciente se recupera\n",
      "Paciente se recupera\n",
      "El paciente:  53  tiene una CAMA   hospital  IESS\n",
      "El paciente:  3  es atendido por el personal   hospital  Publico\n",
      "El paciente:  8  es atendido por el personal   hospital  Publico\n",
      "Al paciente:  14  recive al personal   hospital  Publico\n",
      "El paciente:  18  es atendido por el personal   hospital  IESS\n",
      "Al paciente:  45  recive al personal   hospital  IESS\n",
      "Al paciente:  7  se le asignan equipos   hospital  Publico\n",
      "El paciente:  42  tiene equipos   hospital  IESS\n",
      "El paciente:  39  tiene una CAMA   hospital  IESS\n",
      "El paciente:  27  tiene equipos   hospital  IESS\n",
      "El paciente recibe una cama:  9  al tiempo:  13  hospital  IESS\n",
      "El paciente recibe una cama:  22  al tiempo:  13  hospital  Publico\n",
      "El paciente recibe una cama:  33  al tiempo:  13  hospital  Publico\n",
      "El paciente recibe al personal:  12  al tiempo:  13  hospital  IESS\n",
      "El paciente recibe al personal:  2  al tiempo:  13  hospital  Publico\n",
      "El paciente recibe al personal:  5  al tiempo:  13  hospital  IESS\n",
      "El paciente Recibe equipos:  21  al tiempo:  13  hospital  Publico\n",
      "El paciente Recibe equipos:  25  al tiempo:  13  hospital  Publico\n",
      "Llega paciente nuevo :  54  hospital Publico tiempo  13\n",
      "Paciente se recupera\n",
      "Paciente se recupera\n",
      "El paciente:  54  tiene una CAMA   hospital  Publico\n",
      "El paciente:  9  es atendido por el personal   hospital  IESS\n",
      "El paciente:  22  es atendido por el personal   hospital  Publico\n",
      "El paciente:  33  es atendido por el personal   hospital  Publico\n",
      "El paciente:  12  tiene equipos   hospital  IESS\n",
      "El paciente:  2  tiene equipos   hospital  Publico\n",
      "Al paciente:  5  se le asignan equipos   hospital  IESS\n",
      "El paciente recibe una cama:  1  al tiempo:  14  hospital  Publico\n",
      "El paciente recibe una cama:  30  al tiempo:  14  hospital  Publico\n",
      "El paciente recibe una cama:  31  al tiempo:  14  hospital  Publico\n",
      "El paciente recibe una cama:  34  al tiempo:  14  hospital  IESS\n",
      "El paciente recibe una cama:  38  al tiempo:  14  hospital  IESS\n",
      "El paciente recibe una cama:  43  al tiempo:  14  hospital  IESS\n",
      "El paciente recibe al personal:  40  al tiempo:  14  hospital  Publico\n",
      "El paciente recibe al personal:  15  al tiempo:  14  hospital  IESS\n",
      "El paciente Recibe equipos:  10  al tiempo:  14  hospital  IESS\n",
      "El paciente Recibe equipos:  0  al tiempo:  14  hospital  IESS\n",
      "El paciente Recibe equipos:  13  al tiempo:  14  hospital  IESS\n",
      "El paciente recibe al personal:  14  al tiempo:  14  hospital  Publico\n",
      "El paciente recibe al personal:  18  al tiempo:  14  hospital  IESS\n",
      "El paciente Recibe equipos:  7  al tiempo:  14  hospital  Publico\n",
      "Llega paciente nuevo :  55  hospital Publico tiempo  14\n",
      "Paciente se recupera\n",
      "Paciente se recupera\n",
      "Paciente fallece\n",
      "Paciente fallece\n",
      "El paciente:  55  tiene una CAMA   hospital  Publico\n",
      "El paciente:  1  es atendido por el personal   hospital  Publico\n",
      "El paciente:  30  es atendido por el personal   hospital  Publico\n",
      "Al paciente:  31  recive al personal   hospital  Publico\n",
      "El paciente:  34  es atendido por el personal   hospital  IESS\n",
      "El paciente:  38  es atendido por el personal   hospital  IESS\n",
      "El paciente:  43  es atendido por el personal   hospital  IESS\n",
      "El paciente:  40  tiene equipos   hospital  Publico\n",
      "El paciente:  0  tiene una CAMA   hospital  IESS\n",
      "Al paciente:  14  se le asignan equipos   hospital  Publico\n",
      "El paciente:  15  tiene equipos   hospital  IESS\n",
      "El paciente:  18  tiene equipos   hospital  IESS\n",
      "El paciente recibe una cama:  17  al tiempo:  15  hospital  IESS\n",
      "El paciente recibe una cama:  24  al tiempo:  15  hospital  IESS\n",
      "El paciente recibe una cama:  32  al tiempo:  15  hospital  Publico\n",
      "El paciente recibe una cama:  36  al tiempo:  15  hospital  Publico\n",
      "El paciente recibe al personal:  19  al tiempo:  15  hospital  IESS\n",
      "El paciente recibe una cama:  6  al tiempo:  15  hospital  Publico\n",
      "El paciente Recibe equipos:  4  al tiempo:  15  hospital  IESS\n",
      "El paciente recibe al personal:  45  al tiempo:  15  hospital  IESS\n",
      "El paciente Recibe equipos:  42  al tiempo:  15  hospital  IESS\n",
      "Llega paciente nuevo :  56  hospital IESS tiempo  15\n",
      "Paciente se recupera\n",
      "Paciente se recupera\n",
      "El paciente:  56  tiene una CAMA   hospital  IESS\n",
      "El paciente:  17  es atendido por el personal   hospital  IESS\n",
      "El paciente:  24  es atendido por el personal   hospital  IESS\n",
      "El paciente:  32  es atendido por el personal   hospital  Publico\n",
      "Al paciente:  36  recive al personal   hospital  Publico\n",
      "El paciente:  19  tiene equipos   hospital  IESS\n"
     ]
    },
    {
     "name": "stdout",
     "output_type": "stream",
     "text": [
      "El paciente:  6  es atendido por el personal   hospital  Publico\n",
      "Al paciente:  45  se le asignan equipos   hospital  IESS\n",
      "El paciente recibe una cama:  44  al tiempo:  16  hospital  Publico\n",
      "El paciente recibe una cama:  47  al tiempo:  16  hospital  Publico\n",
      "El paciente recibe una cama:  49  al tiempo:  16  hospital  IESS\n",
      "El paciente recibe al personal:  16  al tiempo:  16  hospital  IESS\n",
      "El paciente Recibe equipos:  27  al tiempo:  16  hospital  IESS\n",
      "El paciente Recibe equipos:  12  al tiempo:  16  hospital  IESS\n",
      "El paciente Recibe equipos:  5  al tiempo:  16  hospital  IESS\n",
      "El paciente Recibe equipos:  40  al tiempo:  16  hospital  Publico\n",
      "Llega paciente nuevo :  57  hospital Publico tiempo  16\n",
      "Paciente se recupera\n",
      "Paciente fallece\n",
      "Paciente se recupera\n",
      "Paciente se recupera\n",
      "El paciente:  57  tiene una CAMA   hospital  Publico\n",
      "El paciente:  44  es atendido por el personal   hospital  Publico\n",
      "El paciente:  47  es atendido por el personal   hospital  Publico\n",
      "El paciente:  49  es atendido por el personal   hospital  IESS\n",
      "El paciente:  16  tiene equipos   hospital  IESS\n",
      "El paciente:  27  tiene una CAMA   hospital  IESS\n",
      "El paciente:  5  tiene una CAMA   hospital  IESS\n",
      "El paciente recibe al personal:  23  al tiempo:  17  hospital  Publico\n",
      "El paciente recibe al personal:  20  al tiempo:  17  hospital  Publico\n",
      "El paciente recibe al personal:  33  al tiempo:  17  hospital  Publico\n",
      "El paciente Recibe equipos:  2  al tiempo:  17  hospital  Publico\n",
      "El paciente recibe al personal:  30  al tiempo:  17  hospital  Publico\n",
      "El paciente Recibe equipos:  45  al tiempo:  17  hospital  IESS\n",
      "Llega paciente nuevo :  58  hospital Publico tiempo  17\n",
      "Paciente se recupera\n",
      "Paciente se recupera\n",
      "El paciente:  58  tiene una CAMA   hospital  Publico\n",
      "El paciente:  23  tiene equipos   hospital  Publico\n",
      "El paciente:  20  tiene equipos   hospital  Publico\n",
      "El paciente:  33  tiene equipos   hospital  Publico\n",
      "El paciente:  30  tiene equipos   hospital  Publico\n",
      "El paciente:  45  tiene una CAMA   hospital  IESS\n",
      "El paciente recibe al personal:  37  al tiempo:  18  hospital  Publico\n",
      "El paciente recibe al personal:  29  al tiempo:  18  hospital  IESS\n",
      "El paciente recibe al personal:  3  al tiempo:  18  hospital  Publico\n",
      "El paciente Recibe equipos:  14  al tiempo:  18  hospital  Publico\n",
      "El paciente Recibe equipos:  15  al tiempo:  18  hospital  IESS\n",
      "El paciente Recibe equipos:  18  al tiempo:  18  hospital  IESS\n",
      "El paciente recibe al personal:  17  al tiempo:  18  hospital  IESS\n",
      "El paciente recibe al personal:  32  al tiempo:  18  hospital  Publico\n",
      "El paciente Recibe equipos:  19  al tiempo:  18  hospital  IESS\n",
      "Llega paciente nuevo :  59  hospital IESS tiempo  18\n",
      "Paciente se recupera\n",
      "Paciente fallece\n",
      "Paciente se recupera\n",
      "Paciente se recupera\n",
      "El paciente:  59  tiene una CAMA   hospital  IESS\n",
      "El paciente:  37  tiene equipos   hospital  Publico\n",
      "El paciente:  29  tiene equipos   hospital  IESS\n",
      "El paciente:  14  tiene una CAMA   hospital  Publico\n",
      "El paciente:  18  tiene una CAMA   hospital  IESS\n",
      "El paciente:  17  tiene equipos   hospital  IESS\n",
      "El paciente:  3  tiene equipos   hospital  Publico\n",
      "El paciente recibe al personal:  28  al tiempo:  19  hospital  Publico\n",
      "El paciente recibe una cama:  54  al tiempo:  19  hospital  Publico\n",
      "El paciente recibe al personal:  9  al tiempo:  19  hospital  IESS\n",
      "El paciente recibe al personal:  1  al tiempo:  19  hospital  Publico\n",
      "El paciente recibe al personal:  34  al tiempo:  19  hospital  IESS\n",
      "El paciente recibe al personal:  49  al tiempo:  19  hospital  IESS\n",
      "El paciente Recibe equipos:  20  al tiempo:  19  hospital  Publico\n",
      "Llega paciente nuevo :  60  hospital Publico tiempo  19\n",
      "Paciente se recupera\n",
      "El paciente:  60  tiene una CAMA   hospital  Publico\n",
      "El paciente:  54  es atendido por el personal   hospital  Publico\n",
      "El paciente:  9  tiene equipos   hospital  IESS\n",
      "El paciente:  34  tiene equipos   hospital  IESS\n",
      "El paciente:  49  tiene equipos   hospital  IESS\n",
      "El paciente:  32  tiene equipos   hospital  Publico\n",
      "Pacientes Recuperados: \n",
      "{10: 1, 11: 2, 12: 2, 13: 2, 14: 2, 15: 2, 16: 3, 17: 2, 18: 3, 19: 1}\n",
      "Pacientes Fallecidos: \n",
      "{14: 2, 16: 1, 18: 1}\n"
     ]
    },
    {
     "data": {
      "image/png": "[encoded data removed]",
      "text/plain": [
       "<Figure size 432x288 with 1 Axes>"
      ]
     },
     "metadata": {
      "needs_background": "light"
     },
     "output_type": "display_data"
    },
    {
     "data": {
      "image/png": "[encoded data removed]",
      "text/plain": [
       "<Figure size 432x288 with 1 Axes>"
      ]
     },
     "metadata": {
      "needs_background": "light"
     },
     "output_type": "display_data"
    },
    {
     "data": {
      "image/png": "[encoded data removed]",
      "text/plain": [
       "<Figure size 432x288 with 1 Axes>"
      ]
     },
     "metadata": {
      "needs_background": "light"
     },
     "output_type": "display_data"
    },
    {
     "data": {
      "image/png": "[encoded data removed]",
      "text/plain": [
       "<Figure size 432x288 with 1 Axes>"
      ]
     },
     "metadata": {
      "needs_background": "light"
     },
     "output_type": "display_data"
    },
    {
     "data": {
      "image/png": "[encoded data removed]",
      "text/plain": [
       "<Figure size 432x288 with 1 Axes>"
      ]
     },
     "metadata": {
      "needs_background": "light"
     },
     "output_type": "display_data"
    }
   ],
   "source": [
    "import simpy\n",
    "import random\n",
    "import matplotlib.pyplot as pp\n",
    "import numpy as np\n",
    "from scipy import stats # importando scipy.stats\n",
    "import pandas as pd # importando pandas\n",
    "\n",
    "%matplotlib inline\n",
    "\n",
    "#PARAMETROS\n",
    "datos = np.random.randn(1, 240) #datos para los infectados\n",
    "hospitalesC = 2\n",
    "hospiA = 153\n",
    "hospiB = 120\n",
    "hperA = 85\n",
    "hperB = 34\n",
    "heqA = 8 \n",
    "heqB = 6 \n",
    "inic_infect = 41\n",
    "taza_crec = abs(int(datos.mean()*100)) #calculo la media para la taza de crecimiento\n",
    "print('La taza de crecimiento es ',taza_crec)\n",
    "dias_hosp = 10\n",
    "dias_personal = 5\n",
    "dias_equipo = 3\n",
    "simulacion_dias = 20\n",
    "costo = 539\n",
    "\n",
    "\n",
    "#Diccionario para almacenar los resultados\n",
    "recuperados={}\n",
    "fallecidos={}\n",
    "jovenes={}\n",
    "adultos={}\n",
    "riesgo={}\n",
    "equipos_usados=[]\n",
    "camas_usadas=[]\n",
    "personal_usado=[]\n",
    "\n",
    "class Hospital(object):\n",
    "    #constructor\n",
    "    def __init__(self, env, num_cama,num_personal,num_equipos, name):\n",
    "            self.env = env\n",
    "            self.num_cama = num_cama\n",
    "            self.num_personal=num_personal\n",
    "            self.num_equipos=num_equipos\n",
    "            self.camas = simpy.Resource(env, num_cama)\n",
    "            self.personal = simpy.Resource(env, num_personal)\n",
    "            self.equipos = simpy.Resource(env, num_equipos)\n",
    "            self.name = name\n",
    "            \n",
    "    def ingresa_paciente(self, paciente):\n",
    "        yield self.env.timeout(random.randint(dias_hosp-5, dias_hosp+5))\n",
    "        print(\"El paciente recibe una cama: \", paciente, \" al tiempo: \", self.env.now, \" hospital \", self.name)\n",
    "    def personal_paciente(self, paciente):\n",
    "        yield self.env.timeout(random.randint(dias_personal-3, dias_personal+3))\n",
    "        print(\"El paciente recibe al personal: \", paciente, \" al tiempo: \", self.env.now, \" hospital \", self.name)\n",
    "    def equipo_paciente(self, paciente):\n",
    "        yield self.env.timeout(random.randint(dias_equipo-1, dias_equipo+1))\n",
    "        print(\"El paciente Recibe equipos: \", paciente, \" al tiempo: \", self.env.now, \" hospital \", self.name)\n",
    "def llegada_paciente(env, hospital, paciente):\n",
    "    arrive = env.now\n",
    "    estado = random.randint(1,100)\n",
    "    if (estado <= 10 and estado > 0):\n",
    "        jovenes[env.now] = jovenes[env.now] + 1 if env.now in jovenes else  1\n",
    "        \n",
    "        with hospital.camas.request() as cama:\n",
    "            dias_esperando = random.randint(1,3) #Numero de dias maximo que puede esperar sin ser asignado a una cama dentro del hospital\n",
    "            requerimiento = yield cama | env.timeout(dias_esperando) #Asignar un tiempo de espera\n",
    "            wait = env.now - arrive\n",
    "            if cama in requerimiento:\n",
    "                print(\"Al paciente: \", paciente, \" se le asigna una CAMA \", \" hospital \" , hospital.name)\n",
    "                yield env.process(hospital.ingresa_paciente(paciente))\n",
    "                arrive2 = env.now\n",
    "                camas_usadas.append(1)\n",
    "                with hospital.personal.request() as persona:\n",
    "                    dias_esperando_personal = random.randint(1,2)\n",
    "                    requerimiento2 = yield persona | env.timeout(dias_esperando_personal)\n",
    "                    wait2 = env.now - arrive2\n",
    "                    if persona in requerimiento2:\n",
    "                        print(\"Al paciente: \", paciente, \" recive al personal \", \" hospital \" , hospital.name)\n",
    "                        yield env.process(hospital.personal_paciente(paciente))\n",
    "                        arrive3 = env.now\n",
    "                        personal_usado.append(1)\n",
    "                        with hospital.equipos.request() as equipo:\n",
    "                            dias_esperando_equipo = random.randint(1,2)\n",
    "                            requerimiento3 = yield equipo | env.timeout(dias_esperando_equipo)\n",
    "                            wait3 = env.now - arrive3\n",
    "                            if equipo in requerimiento3:\n",
    "                                print(\"Al paciente: \", paciente, \" se le asignan equipos \", \" hospital \" , hospital.name)\n",
    "                                yield env.process(hospital.equipo_paciente(paciente))\n",
    "                                estado = random.randint(1,100)\n",
    "                                equipos_usados.append(1)\n",
    "                                if (estado < 8) :\n",
    "                                    print('Paciente fallece')\n",
    "                                    fallecidos[env.now] = fallecidos[env.now] + 1 if env.now in fallecidos else  1\n",
    "                                else:\n",
    "                                    print('Paciente se recupera')\n",
    "                                    recuperados[env.now] = recuperados[env.now] + 1 if env.now in recuperados else 1 \n",
    "                            else:\n",
    "                                print(\"El paciente \" , paciente, \" en el hospital \", hospital.name, \" espero \", wait3 , \" dias y fallece no hubo Equipo\")\n",
    "                                fallecidos[env.now] = fallecidos[env.now] + 1 if env.now in fallecidos else  1\n",
    "                        \n",
    "                    else:\n",
    "                        print(\"El paciente \" , paciente, \" en el hospital \", hospital.name, \" espero \", wait2 , \" dias y fallece no hubo personal\")\n",
    "                        fallecidos[env.now] = fallecidos[env.now] + 1 if env.now in fallecidos else  1\n",
    "                        \n",
    "            else:\n",
    "                print(\"El paciente \" , paciente, \" en el hospital \", hospital.name, \" espero \", wait , \" dias y fallece no hay camas\")\n",
    "                fallecidos[env.now] = fallecidos[env.now] + 1 if env.now in fallecidos else  1        \n",
    "    \n",
    "    if (estado <= 30 and estado >= 11):\n",
    "        adultos[env.now] = adultos[env.now] + 1 if env.now in adultos else  1\n",
    "        \n",
    "        with hospital.camas.request() as cama:\n",
    "            dias_esperando = random.randint(1,3) \n",
    "            requerimiento = yield cama | env.timeout(dias_esperando) \n",
    "            wait = env.now - arrive\n",
    "            if cama in requerimiento:\n",
    "                print(\"El paciente: \", paciente, \" tiene una CAMA \", \" hospital \" , hospital.name)\n",
    "                yield env.process(hospital.ingresa_paciente(paciente))\n",
    "                arrive2 = env.now\n",
    "                camas_usadas.append(1)\n",
    "                with hospital.personal.request() as persona:\n",
    "                    dias_esperando_personal = random.randint(1,2)\n",
    "                    requerimiento2 = yield persona | env.timeout(dias_esperando_personal)\n",
    "                    wait2 = env.now - arrive2\n",
    "                    if persona in requerimiento2:\n",
    "                        print(\"El paciente: \", paciente, \" es atendido por el personal \", \" hospital \" , hospital.name)\n",
    "                        yield env.process(hospital.personal_paciente(paciente))\n",
    "                        arrive3 = env.now\n",
    "                        personal_usado.append(1)\n",
    "                        with hospital.equipos.request() as equipo:\n",
    "                            dias_esperando_equipo = random.randint(1,2)\n",
    "                            requerimiento3 = yield equipo | env.timeout(dias_esperando_equipo)\n",
    "                            wait3 = env.now - arrive3\n",
    "                            if equipo in requerimiento3:\n",
    "                                print(\"El paciente: \", paciente, \" tiene equipos \", \" hospital \" , hospital.name)\n",
    "                                yield env.process(hospital.equipo_paciente(paciente))\n",
    "                                estado = random.randint(1,100)\n",
    "                                equipos_usados.append(1)\n",
    "                                if (estado < 8) :\n",
    "                                    print('Paciente fallece')\n",
    "                                    fallecidos[env.now] = fallecidos[env.now] + 1 if env.now in fallecidos else  1\n",
    "                                else:\n",
    "                                    print('Paciente se recupera')\n",
    "                                    recuperados[env.now] = recuperados[env.now] + 1 if env.now in recuperados else 1 \n",
    "                            else:\n",
    "                                print(\"El paciente \" , paciente, \" en el hospital \", hospital.name, \" espero \", wait3 , \" dias y fallece no hubo Equipo\")\n",
    "                                fallecidos[env.now] = fallecidos[env.now] + 1 if env.now in fallecidos else  1\n",
    "                        \n",
    "                    else:\n",
    "                        print(\"El paciente \" , paciente, \" en el hospital \", hospital.name, \" espero \", wait2 , \" dias y fallece no hubo personal\")\n",
    "                        fallecidos[env.now] = fallecidos[env.now] + 1 if env.now in fallecidos else  1\n",
    "                        \n",
    "            else:\n",
    "                print(\"El paciente \" , paciente, \" en el hospital \", hospital.name, \" espero \", wait , \" dias y fallece no hay camas\")\n",
    "                fallecidos[env.now] = fallecidos[env.now] + 1 if env.now in fallecidos else  1        \n",
    "\n",
    "        \n",
    "        \n",
    "        \n",
    "        \n",
    "    if (estado <= 100 and estado >= 31):\n",
    "        riesgo[env.now] = riesgo[env.now] + 1 if env.now in riesgo else  1\n",
    "        \n",
    "        with hospital.camas.request() as cama:\n",
    "            dias_esperando = random.randint(1,3) \n",
    "            requerimiento = yield cama | env.timeout(dias_esperando) \n",
    "            wait = env.now - arrive\n",
    "            if cama in requerimiento:\n",
    "                print(\"El paciente: \", paciente, \" tiene una CAMA \", \" hospital \" , hospital.name)\n",
    "                yield env.process(hospital.ingresa_paciente(paciente))\n",
    "                arrive2 = env.now\n",
    "                camas_usadas.append(1)\n",
    "                with hospital.personal.request() as persona:\n",
    "                    dias_esperando_personal = random.randint(1,2)\n",
    "                    requerimiento2 = yield persona | env.timeout(dias_esperando_personal)\n",
    "                    wait2 = env.now - arrive2\n",
    "                    if persona in requerimiento2:\n",
    "                        print(\"El paciente: \", paciente, \" es atendido por el personal \", \" hospital \" , hospital.name)\n",
    "                        yield env.process(hospital.personal_paciente(paciente))\n",
    "                        arrive3 = env.now\n",
    "                        personal_usado.append(1)\n",
    "                        with hospital.equipos.request() as equipo:\n",
    "                            dias_esperando_equipo = random.randint(1,2)\n",
    "                            requerimiento3 = yield equipo | env.timeout(dias_esperando_equipo)\n",
    "                            wait3 = env.now - arrive3\n",
    "                            if equipo in requerimiento3:\n",
    "                                print(\"El paciente: \", paciente, \" tiene equipos \", \" hospital \" , hospital.name)\n",
    "                                yield env.process(hospital.equipo_paciente(paciente))\n",
    "                                estado = random.randint(1,100)\n",
    "                                equipos_usados.append(1)\n",
    "                                if (estado < 8) :\n",
    "                                    print('Paciente fallece')\n",
    "                                    fallecidos[env.now] = fallecidos[env.now] + 1 if env.now in fallecidos else  1\n",
    "                                else:\n",
    "                                    print('Paciente se recupera')\n",
    "                                    recuperados[env.now] = recuperados[env.now] + 1 if env.now in recuperados else 1 \n",
    "                            else:\n",
    "                                print(\"El paciente \" , paciente, \" en el hospital \", hospital.name, \" espero \", wait3 , \" dias y fallece no hubo Equipo\")\n",
    "                                fallecidos[env.now] = fallecidos[env.now] + 1 if env.now in fallecidos else  1\n",
    "                        \n",
    "                    else:\n",
    "                        print(\"El paciente \" , paciente, \" en el hospital \", hospital.name, \" espero \", wait2 , \" dias y fallece no hubo personal\")\n",
    "                        fallecidos[env.now] = fallecidos[env.now] + 1 if env.now in fallecidos else  1\n",
    "                        \n",
    "            else:\n",
    "                print(\"El paciente \" , paciente, \" en el hospital \", hospital.name, \" espero \", wait , \" dias y fallece no hay camas\")\n",
    "                fallecidos[env.now] = fallecidos[env.now] + 1 if env.now in fallecidos else  1        \n",
    "\n",
    "        \n",
    "        \n",
    "def ejecutar(env, tasa_crecimiento, infectados):\n",
    "    hospitalA = Hospital(env, hospiA,hperA,heqA, \"IESS\")\n",
    "    hospitalB = Hospital(env, hospiB,hperB,heqB, \"Publico\")\n",
    "    for i in range(infectados):\n",
    "        asignar_hospital(env, hospitalA, hospitalB, i)\n",
    "    paciente = infectados\n",
    "    while True:\n",
    "        yield env.timeout(1)\n",
    "        for i in range(tasa_crecimiento):\n",
    "            paciente += 1\n",
    "            asignar_hospital(env, hospitalA, hospitalB, paciente)\n",
    "                \n",
    "def asignar_hospital(env, hospitalA, hospitalB, paciente):\n",
    "    hosp_esc = random.randint(1,2)\n",
    "    if (hosp_esc == 1):\n",
    "        print(\"Llega paciente nuevo : \", paciente, \" hospital IESS tiempo \", env.now)\n",
    "        env.process(llegada_paciente(env, hospitalA, paciente))\n",
    "    else:\n",
    "        print(\"Llega paciente nuevo : \", paciente, \" hospital Publico tiempo \", env.now)\n",
    "        env.process(llegada_paciente(env, hospitalB, paciente))\n",
    "    \n",
    "print(\"Simulacion COVID 19 en CAÑAR\")\n",
    "env=simpy.Environment()\n",
    "env.process(ejecutar(env,taza_crec, inic_infect))\n",
    "env.run(until=simulacion_dias)\n",
    "\n",
    "print(\"Pacientes Recuperados: \")\n",
    "print(recuperados)\n",
    "print(\"Pacientes Fallecidos: \")\n",
    "print(fallecidos)\n",
    "\n",
    "datos=sorted(recuperados.items()) \n",
    "x, y =zip(*datos) \n",
    "pp.plot(x,y,linewidth=2,color='green') \n",
    "pp.scatter(x,y,color='black') \n",
    "pp.title(\"Dias x Personas Recuperadas\")\n",
    "pp.grid(True) \n",
    "pp.show() \n",
    "\n",
    "if (fallecidos):\n",
    "    datos=sorted(fallecidos.items()) \n",
    "    x, y =zip(*datos) \n",
    "    pp.plot(x,y,linewidth=2,color='red') \n",
    "    pp.scatter(x,y,color='blue') \n",
    "    pp.title(\"Personas Fallecidas x dias en Hospital\")\n",
    "    pp.grid(True) \n",
    "    pp.show() \n",
    "if (jovenes):\n",
    "    datos=sorted(jovenes.items()) \n",
    "    x, y =zip(*datos) \n",
    "    pp.plot(x,y,linewidth=2,color='orange') \n",
    "    pp.scatter(x,y,color='green') \n",
    "    pp.title(\"Jovenes x dias en Hospital\")\n",
    "    pp.grid(True) \n",
    "    pp.show() \n",
    "if (adultos):\n",
    "    datos=sorted(adultos.items()) \n",
    "    x, y =zip(*datos) \n",
    "    pp.plot(x,y,linewidth=2,color='pink') \n",
    "    pp.scatter(x,y,color='brown') \n",
    "    pp.title(\"Adultos x dias en Hospital\")\n",
    "    pp.grid(True) \n",
    "    pp.show() \n",
    "if (riesgo):\n",
    "    datos=sorted(riesgo.items()) \n",
    "    x, y =zip(*datos) \n",
    "    pp.plot(x,y,linewidth=2,color='red') \n",
    "    pp.scatter(x,y,color='green') \n",
    "    pp.title(\"Riesgo x dias en Hospital\")\n",
    "    pp.grid(True) \n",
    "    pp.show() \n",
    "\n"
   ]
  },
  {
   "cell_type": "markdown",
   "metadata": {},
   "source": [
    "# Costos"
   ]
  },
  {
   "cell_type": "code",
   "execution_count": 28,
   "metadata": {},
   "outputs": [
    {
     "name": "stdout",
     "output_type": "stream",
     "text": [
      "El Total en costo en 20 dias en Cañar es:  46229\n"
     ]
    }
   ],
   "source": [
    "costo1=(sum(camas_usadas)*(costo-200)) #se resta es valor por personas que no utilizan camas\n",
    "costo2=(sum(personal_usado)*(costo-100)) #se resta ese valor por personas que no utilizan los equipos\n",
    "costo3=(sum(equipos_usados)*(costo))\n",
    "total_costos=(costo1+costo2+costo3)\n",
    "print(\"El Total en costo en 20 dias en Cañar es: \",total_costos)"
   ]
  },
  {
   "cell_type": "markdown",
   "metadata": {},
   "source": [
    "## Conclusiones\n",
    "\n",
    "* Por medio de la simulacion podemos aproximarnos a una realidad en este caso de cañar tomando en cuenta varios aspectos como costos, numero de equipos, personal, numero de camas, etc. segun lo necesiten.\n",
    "\n",
    "## Recomendaciones\n",
    "\n",
    "* Investigar los valores lo mas real posible para una mejor realidad en simulacion\n",
    "\n",
    "## Opiniones\n",
    "\n",
    "* Dado el numero de camas y el numero de infectados se va a tener un indice de personas que no ingresarán a hospitalización, es por ello que dado esto las personas se aprovechan para solicitar más insumos médicos pero an un precio mas elevado aludiendo que estan caros dada la situación y por este motivo que se da\n"
   ]
  }
 ],
 "metadata": {
  "kernelspec": {
   "display_name": "Python 3",
   "language": "python",
   "name": "python3"
  },
  "language_info": {
   "codemirror_mode": {
    "name": "ipython",
    "version": 3
   },
   "file_extension": ".py",
   "mimetype": "text/x-python",
   "name": "python",
   "nbconvert_exporter": "python",
   "pygments_lexer": "ipython3",
   "version": "3.7.7"
  }
 },
 "nbformat": 4,
 "nbformat_minor": 1
}
